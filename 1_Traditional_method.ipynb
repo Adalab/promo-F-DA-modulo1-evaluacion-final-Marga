{
 "cells": [
  {
   "cell_type": "code",
   "execution_count": 1,
   "metadata": {},
   "outputs": [
    {
     "name": "stdout",
     "output_type": "stream",
     "text": [
      "Producto 'gabardina' ha sido añadido \n",
      "[{'nombre': 'gabardina', 'precio': 49.99, 'cantidad': 8}]\n"
     ]
    }
   ],
   "source": [
    "# TRADICIONAL METODO 1 \n",
    "\n",
    "\n",
    "# Chequeo si mi producto ya existe: buscando y comparando si el nombre y nombre dentro del diccionario, coinciden.\n",
    "\n",
    "nombre = \"gabardina\"\n",
    "precio = 49.99\n",
    "cantidad = 8\n",
    "inventario = []\n",
    "\n",
    "for diccionario in inventario:\n",
    "    if diccionario[\"nombre\"] == nombre:\n",
    "        print(f\"El producto '{nombre}' ya existe en el inventario.\")\n",
    "\n",
    "\n",
    "# Si el producto no existe, lo voy a añadir a la lista de productos. ¿Cómo? haciendo un append (el inventario es LISTA por eso puedo hacer append)\n",
    "diccionario_producto = {\"nombre\": nombre, \"precio\": precio, \"cantidad\": cantidad}\n",
    "inventario.append(diccionario_producto)\n",
    "print(f\"Producto '{nombre}' ha sido añadido \")\n",
    "print(inventario)\n"
   ]
  },
  {
   "cell_type": "code",
   "execution_count": 2,
   "metadata": {},
   "outputs": [
    {
     "name": "stdout",
     "output_type": "stream",
     "text": [
      "Nombre: Chaqueta, Precio: 19.99€, Cantidad: 12\n",
      "Nombre: Gabardina, Precio: 49.99€, Cantidad: 8\n",
      "Nombre: Pantalon, Precio: 18.99€, Cantidad: 23\n",
      "Nombre: Camiseta, Precio: 9.99€, Cantidad: 58\n"
     ]
    }
   ],
   "source": [
    "# TRADICIONAL METODO 2 -- Inventario de productos. \n",
    "\n",
    "inventario = [{'nombre': 'Chaqueta', 'precio': 19.99, 'cantidad': 12},\n",
    "              {'nombre': 'Gabardina', 'precio': 49.99, 'cantidad': 8},\n",
    "              {'nombre': 'Pantalon', 'precio': 18.99, 'cantidad': 23},\n",
    "              {'nombre': 'Camiseta', 'precio': 9.99, 'cantidad': 58}\n",
    "              ]\n",
    "\n",
    "#Por cada producto de inventario, recorro los valores de nombre, precio y cantidad. \n",
    "for producto in inventario: \n",
    "          nombre = producto[\"nombre\"]\n",
    "          precio = producto[\"precio\"]\n",
    "          cantidad = producto[\"cantidad\"]\n",
    "          print(f\"Nombre: {nombre}, Precio: {precio}€, Cantidad: {cantidad}\")"
   ]
  },
  {
   "cell_type": "code",
   "execution_count": 3,
   "metadata": {},
   "outputs": [
    {
     "name": "stdout",
     "output_type": "stream",
     "text": [
      "Nombre: Camiseta, Precio: 9.99€, Cantidad: 58\n"
     ]
    }
   ],
   "source": [
    "#TRADICIONAL METODO 3 -- Buscar producto\n",
    "\n",
    "producto_buscado = input(\"Dime que producto quieres buscar? \")\n",
    "\n",
    "inventario = [{'nombre': 'Chaqueta', 'precio': 19.99, 'cantidad': 12},\n",
    "              {'nombre': 'Gabardina', 'precio': 49.99, 'cantidad': 8},\n",
    "              {'nombre': 'Pantalon', 'precio': 18.99, 'cantidad': 23},\n",
    "              {'nombre': 'Camiseta', 'precio': 9.99, 'cantidad': 58}\n",
    "              ]\n",
    "\n",
    "match = False #inicializo con false para chequear si se ha encontrado el producto o no. \n",
    "for producto in inventario:\n",
    "    if producto['nombre'].lower() == producto_buscado.lower():\n",
    "        print(f\"Nombre: {producto['nombre']}, Precio: {producto['precio']}€, Cantidad: {producto['cantidad']}\")\n",
    "        match = True # si se ha encontrado el producto entonces lo paso a true. \n",
    "if not match: # Si no se encuentra coincidencia, nos imprime el mensaje de aviso: \n",
    "    print(f\"No se encontró el producto con el nombre: {producto_buscado}\")\n"
   ]
  },
  {
   "cell_type": "code",
   "execution_count": 4,
   "metadata": {},
   "outputs": [
    {
     "name": "stdout",
     "output_type": "stream",
     "text": [
      "El producto Gabardina ya existe. El stock ha sido actualizado a 13 piezas.\n",
      "Este es el inventario completo:\n",
      "Chaqueta: 12\n",
      "Gabardina: 13\n",
      "Pantalon: 23\n",
      "Camiseta: 58\n"
     ]
    }
   ],
   "source": [
    "# TRADICIONAL METODO 4 -- Actualizar stock\n",
    "\n",
    "inventario = [{'nombre': 'Chaqueta', 'precio': 19.99, 'cantidad': 12},\n",
    "              {'nombre': 'Gabardina', 'precio': 49.99, 'cantidad': 8},\n",
    "              {'nombre': 'Pantalon', 'precio': 18.99, 'cantidad': 23},\n",
    "              {'nombre': 'Camiseta', 'precio': 9.99, 'cantidad': 58}\n",
    "              ]\n",
    "\n",
    "nombre = \"Gabardina\"\n",
    "cantidad = 5\n",
    "\n",
    "# Busco el producto en el inventario, si coincide entonces deja de buscar y guardo la info en producto_encontrado. \n",
    "for producto in inventario:\n",
    "    if producto['nombre'].lower() == nombre.lower():\n",
    "        producto_encontrado = producto\n",
    "        break\n",
    "\n",
    "\n",
    "# Si el producto es mayor o igual a cero, entonces, actualizo la cantidad de este producto: el N que tenía de base + N que voy a añadir. \n",
    "#Si el producto no está en el inventario, entonces imprimo que no está. (OJO! no haría falta! porque antes ya hacemos el chequeo de si coincide lo que buscamos con el inventario de productos\n",
    "# pero por asegurar el tiro :D)\n",
    "\n",
    "if producto_encontrado['cantidad'] >= 0:\n",
    "    producto_encontrado['cantidad'] += cantidad\n",
    "    print(f\"El producto {nombre} ya existe. El stock ha sido actualizado a {producto_encontrado['cantidad']} piezas.\")\n",
    "\n",
    "else:\n",
    "   print(f'El producto \"{nombre}\" no está en el inventario.')\n",
    "\n",
    "# Si el producto no se encuentra, entonces creo una nueva ficha de producto con nombre, precio y cantidad. Aqui vuelvo a poner lo del 0.0 de decimales para controlar, por si acaso. \n",
    "if not producto_encontrado:\n",
    "    nuevo_producto = {'nombre': nombre, 'precio': 0.0, 'cantidad': cantidad}\n",
    "    inventario.append(nuevo_producto)\n",
    "    print(f\"El producto {nombre} ha sido añadido al inventario con una cantidad de: {cantidad} piezas\")\n",
    "\n",
    "# Finalmente, imprimo el inventario, recorriendo todos los productos que hay en él y mostrando el nombre(key del value 'gabardina' por ejemplo) y la cantidad(key del value 8 por ejemplo). \n",
    "print(\"Este es el inventario completo:\")\n",
    "for producto in inventario:\n",
    "        print(f\"{producto['nombre']}: {producto['cantidad']}\")\n",
    "\n",
    "\n",
    " "
   ]
  },
  {
   "cell_type": "code",
   "execution_count": 5,
   "metadata": {},
   "outputs": [
    {
     "name": "stdout",
     "output_type": "stream",
     "text": [
      "El producto Camiseta ha sido eliminado de tu inventario\n"
     ]
    }
   ],
   "source": [
    "\n",
    "# TRADICIONAL METODO 5  -- Eliminar producto \n",
    "\n",
    "inventario = [{'nombre': 'Chaqueta', 'precio': 19.99, 'cantidad': 12},\n",
    "              {'nombre': 'Gabardina', 'precio': 49.99, 'cantidad': 8},\n",
    "              {'nombre': 'Pantalon', 'precio': 18.99, 'cantidad': 23},\n",
    "              {'nombre': 'Camiseta', 'precio': 9.99, 'cantidad': 58}\n",
    "              ]\n",
    "\n",
    "nombre = \"Camiseta\"\n",
    "\n",
    "# Recorro de nuevo el diccionario buscando los nombres hasta que coincida con el que estoy buscando \n",
    "#implemento el método remove para eliminar el diccionario completo de este producto. Podria usar pop() buscando el índice del producto. \n",
    "          \n",
    "for diccionario in inventario: \n",
    "     if diccionario[\"nombre\"].lower() == nombre.lower():\n",
    "          inventario.remove(diccionario)\n",
    "          print(f\"El producto {nombre} ha sido eliminado de tu inventario\")\n",
    "          break\n",
    "else:     \n",
    "     print(f\"El producto {nombre} no existe en tu inventario\")\n"
   ]
  },
  {
   "cell_type": "code",
   "execution_count": 6,
   "metadata": {},
   "outputs": [
    {
     "name": "stdout",
     "output_type": "stream",
     "text": [
      "[{'nombre': 'Chaqueta', 'precio': 19.99, 'cantidad': 12}, {'nombre': 'Gabardina', 'precio': 49.99, 'cantidad': 8}, {'nombre': 'Pantalon', 'precio': 18.99, 'cantidad': 23}]\n"
     ]
    }
   ],
   "source": [
    "print(inventario)"
   ]
  },
  {
   "cell_type": "code",
   "execution_count": 7,
   "metadata": {},
   "outputs": [
    {
     "name": "stdout",
     "output_type": "stream",
     "text": [
      "El valor total del inventario es de: 1655.99€\n"
     ]
    }
   ],
   "source": [
    "# TRADICIONAL METODO 6 \n",
    "\n",
    "inventario = [{'nombre': 'Chaqueta', 'precio': 19.99, 'cantidad': 12},\n",
    "              {'nombre': 'Gabardina', 'precio': 49.99, 'cantidad': 8},\n",
    "              {'nombre': 'Pantalon', 'precio': 18.99, 'cantidad': 23},\n",
    "              {'nombre': 'Camiseta', 'precio': 9.99, 'cantidad': 58}\n",
    "              ]\n",
    "\n",
    "total_valor = 0.0\n",
    "        \n",
    "for diccionario in inventario:\n",
    "\n",
    "    precio = diccionario[\"precio\"]\n",
    "    cantidad = diccionario[\"cantidad\"]\n",
    "    valor_producto = precio * cantidad\n",
    "    total_valor = round(total_valor + valor_producto, 2)\n",
    "\n",
    "print(f\"El valor total del inventario es de: {total_valor}€\")"
   ]
  },
  {
   "cell_type": "code",
   "execution_count": 8,
   "metadata": {},
   "outputs": [],
   "source": [
    "# TRADICIONAL METODO 7 "
   ]
  },
  {
   "cell_type": "code",
   "execution_count": 9,
   "metadata": {},
   "outputs": [
    {
     "name": "stdout",
     "output_type": "stream",
     "text": [
      "Inventario:\n",
      "Se han añadido 1 unidades de Gabardina a la cesta\n",
      "Inventario:\n",
      "Se han añadido 2 unidades de Camiseta a la cesta\n",
      "Inventario:\n",
      "Has finalizado la compra. El total de la compra es: 69.97€\n",
      "__________________\n",
      "\n",
      "Carrito:\n",
      "Gabardina - Precio: 49.99€ - Cantidad: 1 unidades\n",
      "Camiseta - Precio: 9.99€ - Cantidad: 2 unidades\n",
      "Total de la compra: 69.97€\n"
     ]
    }
   ],
   "source": [
    "#TRADICIONAL METODO 8 - realizar compra \n",
    "\n",
    "\n",
    "inventario = [\n",
    "    {'nombre': 'Chaqueta', 'precio': 19.99, 'cantidad': 12},\n",
    "    {'nombre': 'Gabardina', 'precio': 49.99, 'cantidad': 8},\n",
    "    {'nombre': 'Pantalon', 'precio': 18.99, 'cantidad': 23},\n",
    "    {'nombre': 'Camiseta', 'precio': 9.99, 'cantidad': 58}\n",
    "]\n",
    "\n",
    "carrito = []\n",
    "total_compra = 0.0\n",
    "\n",
    "while True:\n",
    "    print(\"Inventario:\")\n",
    "    producto_usuario = input(\"¿Qué producto quieres comprar? (Escribe 'Finalizar' para finalizar la compra): \")\n",
    "\n",
    "    if producto_usuario.lower() == 'finalizar':\n",
    "        break\n",
    "\n",
    "    # Verificamos si el producto existe antes de preguntar por la cantidad.\n",
    "    producto_en_inventario = None\n",
    "    for producto in inventario:\n",
    "        if producto[\"nombre\"].lower() == producto_usuario.lower() and producto[\"cantidad\"] > 0:\n",
    "            producto_en_inventario = producto\n",
    "            break\n",
    "\n",
    "    if producto_en_inventario:\n",
    "        unidades_usuario = int(input(f\"Cuantas unidades de {producto_en_inventario['nombre']} quieres?: \"))\n",
    "        if unidades_usuario <= producto_en_inventario[\"cantidad\"]:\n",
    "            carrito.append({\n",
    "                'nombre': producto_en_inventario['nombre'],\n",
    "                'precio': producto_en_inventario['precio'],\n",
    "                'cantidad': unidades_usuario\n",
    "            })\n",
    "\n",
    "            producto_en_inventario[\"cantidad\"] -= unidades_usuario\n",
    "            total_compra += producto_en_inventario[\"precio\"] * unidades_usuario\n",
    "            print(f\"Se han añadido {unidades_usuario} unidades de {producto_en_inventario['nombre']} a la cesta\")\n",
    "        else:\n",
    "            print(f\"No hay suficientes unidades disponibles de {producto_en_inventario['nombre']} en el inventario\")\n",
    "    else:\n",
    "        print(f\"El producto {producto_usuario} no existe o está agotado\")\n",
    "\n",
    "print(f\"Has finalizado la compra. El total de la compra es: {total_compra}€\")\n",
    "print(\"__________________\")\n",
    "print(\"\\nCarrito:\")\n",
    "for item in carrito:\n",
    "    print(f\"{item['nombre']} - Precio: {item['precio']}€ - Cantidad: {item['cantidad']} unidades\")\n",
    "print(f\"Total de la compra: {total_compra}€\")\n"
   ]
  },
  {
   "cell_type": "code",
   "execution_count": 10,
   "metadata": {},
   "outputs": [
    {
     "name": "stdout",
     "output_type": "stream",
     "text": [
      "Has entregado 50.0, tu cambio es de 4.409999999999997\n"
     ]
    }
   ],
   "source": [
    "# TRADICIONAL METODO 9  -- procesar pago\n",
    "\n",
    "try:\n",
    "    cantidad_a_pagar = float(input(\"ingresa el importe exacto a pagar en € y con decimales: \"))\n",
    "    cantidad_entregada = float(input(\"ingresa la cantidad exacta que me estás entregando: \"))\n",
    "    cambio = cantidad_entregada - cantidad_a_pagar\n",
    "\n",
    "    if cambio == 0: \n",
    "        print(\"gracias por darme la cantidad exacta, no tengo que dvolverte cambio\")\n",
    "    elif cambio > 0:\n",
    "    \n",
    "        print(f\"Has entregado {cantidad_entregada}, tu cambio es de {cambio}\")\n",
    "    elif cambio < 0:\n",
    "        print(f\"Por favor, ingresa una cantidad mayor al coste de tu compra\")\n",
    "          \n",
    "except ValueError:\n",
    "            print(\"por favor,ingresa un parámetro numérico válido\")   "
   ]
  },
  {
   "cell_type": "code",
   "execution_count": 11,
   "metadata": {},
   "outputs": [
    {
     "name": "stdout",
     "output_type": "stream",
     "text": [
      "Cliente 'Filomena' con correo electrónico 'filo@gmail.com' agregado correctamente.\n",
      "{'cliente1': {'nombre': 'Margarita', 'email': 'nombre1@gmail.com'}, 'cliente2': {'nombre': 'Elena', 'email': 'nombre2@gmail.com'}, 'cliente3': {'nombre': 'Juana', 'email': 'nombre3@gmail.com'}, 'cliente4': {'nombre': 'Filomena', 'email': 'filo@gmail.com'}}\n"
     ]
    }
   ],
   "source": [
    "#METODO 10 -- tradicional \n",
    "\n",
    "clientes = {\n",
    "    \"cliente1\": {\"nombre\": \"Margarita\", \"email\": \"nombre1@gmail.com\"},\n",
    "    \"cliente2\": {\"nombre\": \"Elena\", \"email\": \"nombre2@gmail.com\"},\n",
    "    \"cliente3\": {\"nombre\": \"Juana\", \"email\": \"nombre3@gmail.com\"}\n",
    "}\n",
    "\n",
    "nombre = input(\"Ingrese el nombre del cliente: \")\n",
    "email = input(\"Ingrese el correo electrónico del cliente: \")\n",
    "\n",
    "if email in [cliente[\"email\"] for cliente in clientes.values()]:\n",
    "    print(f\"El cliente con el correo {email} ya está registrado\")\n",
    "    print(\"El cliente no ha sido añadido\")\n",
    "else:\n",
    "    # Usar el nombre como ID\n",
    "    cliente_id = f\"cliente{len(clientes) + 1}\"\n",
    "    clientes[cliente_id] = {\"nombre\": nombre, \"email\": email}\n",
    "    print(f\"Cliente '{nombre}' con correo electrónico '{email}' agregado correctamente.\")\n",
    "\n",
    "\n",
    "print(clientes)\n"
   ]
  },
  {
   "cell_type": "code",
   "execution_count": 12,
   "metadata": {},
   "outputs": [
    {
     "name": "stdout",
     "output_type": "stream",
     "text": [
      "{'cliente1': {'nombre': 'Margarita', 'email': 'nombre1@gmail.com'}, 'cliente2': {'nombre': 'Elena', 'email': 'nombre2@gmail.com'}, 'cliente3': {'nombre': 'Juana', 'email': 'nombre3@gmail.com'}, 'cliente4': {'nombre': 'Filomena', 'email': 'filo@gmail.com'}}\n"
     ]
    }
   ],
   "source": [
    "print(clientes)\n"
   ]
  },
  {
   "cell_type": "code",
   "execution_count": 13,
   "metadata": {},
   "outputs": [
    {
     "name": "stdout",
     "output_type": "stream",
     "text": [
      "Nombre: Margarita, Email: nombre1@gmail.com\n",
      "Nombre: Elena, Email: nombre2@gmail.com\n",
      "Nombre: Juana, Email: nombre3@gmail.com\n",
      "Nombre: holiaaaa, Email: gdvnsduif@gmail.com\n"
     ]
    }
   ],
   "source": [
    "# TRADICIONAL METODO 11  -- ver clientes\n",
    "\n",
    "clientes = {'cliente1': {'nombre': 'Margarita', 'email': 'nombre1@gmail.com'}, \n",
    "            'cliente2': {'nombre': 'Elena', 'email': 'nombre2@gmail.com'}, \n",
    "            'cliente3': {'nombre': 'Juana', 'email': 'nombre3@gmail.com'}, \n",
    "            'cliente4': {'nombre': 'holiaaaa', 'email': 'gdvnsduif@gmail.com'}\n",
    "        }\n",
    "\n",
    "#pongo un values() porque quiero sacar la información de cada key: key_name = value_marga // key_email = value_marga@gmail.com\n",
    "for cliente in clientes.values():\n",
    "    nombre = cliente[\"nombre\"]\n",
    "    email = cliente[\"email\"]\n",
    "\n",
    "    print(f\"Nombre: {nombre}, Email: {email}\")\n",
    "    "
   ]
  },
  {
   "cell_type": "code",
   "execution_count": 14,
   "metadata": {},
   "outputs": [
    {
     "name": "stdout",
     "output_type": "stream",
     "text": [
      "Compra registrada para Margarita. Total de la compra: 35€\n"
     ]
    }
   ],
   "source": [
    "\n",
    "# TRADICIONAL METODO 12 -- registrar compra\n",
    "\n",
    "clientes = {\n",
    "    \"Cliente1\": {\"compras\": []},\n",
    "    \"Cliente2\": {\"compras\": []},\n",
    "    \"Margarita\": {\"compras\": []},\n",
    "    \"Cliente4\": {\"compras\": []}\n",
    "}\n",
    "\n",
    "ventas_totales = 0\n",
    "\n",
    "nombre_cliente = \"Margarita\"\n",
    "\n",
    "# Definir el carrito de compras (debes reemplazar esto con tu propia implementación)\n",
    "carrito = {\n",
    "    \"producto1\": {\"precio\": 10, \"cantidad\": 2},\n",
    "    \"producto2\": {\"precio\": 15, \"cantidad\": 1}\n",
    "}\n",
    "\n",
    "\n",
    "# Buscar al cliente en el diccionario de clientes\n",
    "if nombre_cliente in clientes:\n",
    "    cliente = clientes[nombre_cliente]\n",
    "    historial_compras = cliente[\"compras\"]\n",
    "\n",
    "    # Calcular el total de la compra\n",
    "    #total_compra = sum(producto[\"precio\"] * producto[\"cantidad\"] for producto in carrito.values())\n",
    "    total_compra = 0\n",
    "    for producto in carrito.values():\n",
    "        total_compra += producto[\"precio\"] * producto[\"cantidad\"]\n",
    "    \n",
    "\n",
    "    # Registrar la compra\n",
    "    compra = {\"productos\": carrito, \"total\": total_compra}\n",
    "    historial_compras.append(compra)\n",
    "    ventas_totales += total_compra\n",
    "    print(f\"Compra registrada para {nombre_cliente}. Total de la compra: {total_compra}€\")\n",
    "else:\n",
    "    print(\"No se puede realizar la acción porque el cliente no está en el diccionario.\")\n"
   ]
  },
  {
   "cell_type": "code",
   "execution_count": 15,
   "metadata": {},
   "outputs": [],
   "source": [
    "clientes = {\n",
    "    \"cliente1\": {\"nombre\": \"Margarita\", \"email\": \"nombre1@gmail.com\", \"compras\": [{\"productos\": {\"Camiseta\": {\"precio\": 10.0, \"cantidad\": 1}}, \"total\": 10.0}]}}"
   ]
  },
  {
   "cell_type": "code",
   "execution_count": 16,
   "metadata": {},
   "outputs": [
    {
     "name": "stdout",
     "output_type": "stream",
     "text": [
      "Historial de compras para Margarita (nombre1@gmail.com):\n",
      "Compra 1:\n",
      "Producto: Camiseta, Precio: 10.0€, Cantidad: 1\n",
      "Total de la compra: 10.0€\n"
     ]
    }
   ],
   "source": [
    "# TRADICIONAL METODO 13  -- ver Compra cliente\n",
    "\n",
    "\n",
    "clientes = {\n",
    "    \"cliente1\": {\"nombre\": \"Margarita\", \"email\": \"nombre1@gmail.com\", \"compras\": [{\"productos\": {\"Camiseta\": {\"precio\": 10.0, \"cantidad\": 1}}, \"total\": 10.0}]},\n",
    "    \"cliente2\": {\"nombre\": \"Elena\", \"email\": \"nombre2@gmail.com\", \"compras\": []},\n",
    "    \"cliente5\": {\"nombre\": \"Victoria\", \"email\": \"nombre2@gmail.com\", \"compras\": []},\n",
    "    \"cliente3\": {\"nombre\": \"Juana\", \"email\": \"nombre3@gmail.com\", \"compras\": []}\n",
    "}\n",
    "\n",
    "nombre_cliente = \"cliente1\"\n",
    "\n",
    "if nombre_cliente in clientes:\n",
    "    cliente = clientes[nombre_cliente]\n",
    "    historial_compras = cliente[\"compras\"]\n",
    "    print(f\"Historial de compras para {cliente['nombre']} ({cliente['email']}):\")\n",
    "    \n",
    "    num_compra = 1\n",
    "    for compra in historial_compras:\n",
    "        print(f\"Compra {num_compra}:\")\n",
    "        \n",
    "        for producto, detalles in compra[\"productos\"].items():\n",
    "            print(f\"Producto: {producto}, Precio: {detalles['precio']}€, Cantidad: {detalles['cantidad']}\")\n",
    "\n",
    "        print(f\"Total de la compra: {compra['total']}€\")\n",
    "\n",
    "        num_compra += 1  # Incrementa el número de compra\n",
    "\n",
    "else:\n",
    "    print(\"El cliente no está en el diccionario.\")"
   ]
  },
  {
   "cell_type": "code",
   "execution_count": 17,
   "metadata": {},
   "outputs": [
    {
     "name": "stdout",
     "output_type": "stream",
     "text": [
      "ventas totales de la tienda: 10.0€\n"
     ]
    }
   ],
   "source": [
    "# METODO 14 tradicional \n",
    "\n",
    "ventas_totales = 0.0\n",
    "\n",
    "for cliente in clientes.values():\n",
    "    for compra in cliente[\"compras\"]:\n",
    "        ventas_totales = ventas_totales + compra[\"total\"]\n",
    "\n",
    "print(f\"ventas totales de la tienda: {ventas_totales}€\")"
   ]
  }
 ],
 "metadata": {
  "kernelspec": {
   "display_name": "base",
   "language": "python",
   "name": "python3"
  },
  "language_info": {
   "codemirror_mode": {
    "name": "ipython",
    "version": 3
   },
   "file_extension": ".py",
   "mimetype": "text/x-python",
   "name": "python",
   "nbconvert_exporter": "python",
   "pygments_lexer": "ipython3",
   "version": "3.11.5"
  },
  "orig_nbformat": 4
 },
 "nbformat": 4,
 "nbformat_minor": 2
}
