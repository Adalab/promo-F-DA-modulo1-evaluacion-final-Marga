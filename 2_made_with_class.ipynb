{
 "cells": [
  {
   "cell_type": "code",
   "execution_count": 84,
   "metadata": {},
   "outputs": [],
   "source": [
    "\n",
    "import re\n",
    "\n",
    "class TiendaOnline:\n",
    "\n",
    "    def __init__(self, nombre): \n",
    "        self.nombre = nombre\n",
    "        self.inventario = [] #lista vacía donde pondremos las claves de nombre, precio y cantidad {[nombre, precio, stock]}\n",
    "        self.clientes = {}  #diccionario donde pondremos las claves de nombre e email. {{'Cliente1': {'email': 'cliente1@email.com', 'compras': []},}\n",
    "        self.ventas_totales = 0.0 #Es un float con decimales que se inicializa en cero. \n",
    "        #Lo he puesto así porque he leido que es una forma de asegurarse que tiene en cuenta los decimales, en contextos de precios(finanzas) \n",
    "        # si solo pongo 0 sería un integer y tendría que convertirlo a float. así ya esta resuelto en todo momento (si yo agrego 6.5 solo me mostraria el 6)\n",
    "\n",
    "#METODO 1 -- agregar producto --------------**************************---------------------------------\n",
    "\n",
    "    def agregar_producto(self, nombre, precio, cantidad):\n",
    "            # Chequeo si mi producto ya existe: buscando y comparando si el nombre y nombre dentro del diccionario, coinciden.\n",
    "            for diccionario in self.inventario:\n",
    "                if diccionario[\"nombre\"] == nombre:\n",
    "                    print(f\"El producto '{nombre}' ya existe en el inventario.\")\n",
    "                    return\n",
    "\n",
    "            # Si el producto no existe, lo voy a añadir a la lista de productos. Como? haciendo un append (el inventario es LISTA por eso puedo hacer append)\n",
    "            diccionario_producto = {\"nombre\": nombre, \"precio\": precio, \"cantidad\": cantidad}\n",
    "            self.inventario.append(diccionario_producto)\n",
    "            print(f\"Producto '{nombre}' ha sido añadido.\")\n",
    "\n",
    "            return self.inventario\n",
    "\n",
    "\n",
    "# METODO 2 -- ver inventario --------------**************************---------------------------------\n",
    "\n",
    "    def ver_inventario(self): \n",
    "         print(f\"Inventario de {self.nombre}:\")\n",
    "         for diccionario in self.inventario: \n",
    "          print(f\"Nombre: {diccionario['nombre']}, Precio: {diccionario['precio']}€ -- Cantidad: {diccionario['cantidad']}\")\n",
    "              \n",
    "\n",
    "\n",
    "\n",
    "#METODO 3 -- buscar producto  --------------**************************---------------------------------\n",
    "\n",
    "    def buscar_producto(self, nombre):  \n",
    "\n",
    "        match = False #comienzo con la variable false para poder iniciar. \n",
    "        for producto in self.inventario:\n",
    "            if producto['nombre'].lower() == nombre.lower(): #reviso cada nombre de producto con el nombre que he escrito en mi llamada y los he pasado a lower, por si acaso. \n",
    "                print(f\"Nombre: {producto['nombre']}, Precio: {producto['precio']}€, Cantidad: {producto['cantidad']}\") \n",
    "                match = True\n",
    "        if not match: #si no se encuentra, por tanto el match es False, printeame que ha sido así. lo pongo a este nivel pq si lo anido dentro del bucle, me imprime los dos mensajes. \n",
    "            print(f\"No se encontró el producto con el nombre: {nombre}\")\n",
    "\n",
    "\n",
    "\n",
    "\n",
    "# METODO 4 -- actualizar stock  --------------**************************---------------------------------\n",
    "\n",
    "    def actualizar_stock(self, nombre, cantidad):\n",
    "\n",
    "        producto_encontrado = False  # Inicializa producto_encontrado como None o false antes del bucle, si no lo pongo, el bucle da problemas si no el producto no está en en el inventario\n",
    "        for producto in self.inventario:\n",
    "            if producto['nombre'].lower() == nombre.lower():\n",
    "                producto_encontrado = True\n",
    "                producto['cantidad'] += cantidad\n",
    "                print(f\"El producto {nombre} ya existe. El stock ha sido actualizado a {producto['cantidad']} uds.\")\n",
    "                break\n",
    "\n",
    "        # Ahora, después de verificar si el producto existe o no, puedes agregarlo al inventario si es necesario.\n",
    "        if not producto_encontrado:\n",
    "            #ESTO ES LO QUE HARíA SI TUVIERA QUE AÑADIRLO PERO NO ES EL CASO: \n",
    "            #nuevo_producto = {'nombre': nombre, 'precio': 0.0, 'cantidad': cantidad}\n",
    "            #self.inventario.append(nuevo_producto)\n",
    "            #print(f\"El producto {nombre} ha sido añadido al inventario con una cantidad de: {cantidad} piezas\")\n",
    "            print(f\"El producto {nombre} no está en el inventario.\")\n",
    "\n",
    "\n",
    "        # Muestra el inventario completo.\n",
    "        print(\"RECORDATORIO: Este es el inventario completo:\")\n",
    "        for producto in self.inventario:\n",
    "                print(f\"{producto['nombre']} --  {producto['cantidad']} uds.\")\n",
    "    \n",
    "\n",
    "\n",
    "\n",
    "# METODO 5 -- eliminar producto: --------------**************************---------------------------------\n",
    "\n",
    "    def eliminar_producto(self, nombre):\n",
    "           \n",
    "           for diccionario in self.inventario: \n",
    "                if diccionario[\"nombre\"].lower() == nombre.lower():\n",
    "                    self.inventario.remove(diccionario) #he usado remove para poder eliminar por valor. con el pop debería poner el índice (posición)\n",
    "                    print(f\"El producto {nombre} ha sido eliminado de tu inventario\")\n",
    "                    return\n",
    "           else:           \n",
    "     # tengo que poner este print fuera del for loop pq es el caso en el que el producto no está en el inventario (si esta dentro no imprime)\n",
    "            print(f\"El producto {nombre} no existe en tu inventario\")\n",
    " \n",
    "\n",
    "# METODO 6 -- calcular valor inventario \n",
    "\n",
    "    def calcular_valor_inventario(self): \n",
    "        #inicio el valor total en 0.0 (euros, financial topic)\n",
    "        total_valor = 0.0\n",
    "        \n",
    "        for diccionario in self.inventario:\n",
    "            precio = diccionario[\"precio\"]\n",
    "            cantidad = diccionario[\"cantidad\"]\n",
    "            valor_producto = precio * cantidad\n",
    "            total_valor = round(total_valor + valor_producto, 2) #aqui he metido el round para dejar solo dos decimales €\n",
    "\n",
    "        print(f\"El valor total del inventario es de: {total_valor}€\")\n",
    "\n",
    "\n",
    "#METODO 7 -- regex -- buscar Patron --------------**************************---------------------------------\n",
    "\n",
    "    #he escogido un patrón que me busque las palabras q empiecen por GA  y terminen por NA (gabardina)\n",
    "    def buscar_producto_regex(self, patron):\n",
    "        #inicio resultado como lista vacía\n",
    "        resultados = []\n",
    "        #patron = r\"ga.*na\"\n",
    "        #empiezo el bucle de por cada producto que tengo:\n",
    "        for producto in self.inventario: \n",
    "        #obtengo el numbre del producto: \n",
    "            nombre_producto = producto['nombre']\n",
    "            #busco coincidencias con el search, si fuera el match sería solo el primero de la lista. \n",
    "            if re.search(patron, nombre_producto, re.IGNORECASE):#pongo el ignore case para q me controle las minus y mayus\n",
    "                resultados.append(producto)\n",
    "        print(\"Resultados encontrados:\")\n",
    "\n",
    "        if not resultados: #sería como poner solo \"if resultados is not []\" or if resultados:  or resultados  = true. (lo recomendable es true / false)\n",
    "            print(\"No se han encontrado resultados\")\n",
    "            \n",
    "        else:\n",
    "            for resultado in resultados: \n",
    "                print(f\"Nombre: {resultado['nombre']}, Precio: {resultado['precio']}€\")\n",
    "                \n",
    "\n",
    "\n",
    "#METODO 8 -- realizar compra --------------**************************---------------------------------\n",
    "\n",
    "    def realizar_compra(self):\n",
    "\n",
    "        #inicializo el carrito con una lista vacía y el monto total de la compra a 0 euros. \n",
    "        carrito = []\n",
    "        total_compra = 0.0\n",
    "        #comenzamos con el bucle, donde pedimos al usuario que producto quiere comprar //he metido la instrucción de finalizar porque no sabía como cerrarlo\n",
    "        # y he visto algunos ejemplos que funcionaban así. \n",
    "        while True:\n",
    "            \n",
    "            producto_usuario = input(\"¿Qué producto quieres comprar? (Escribe 'FINALIZAR' para terminar la compra): \").lower()\n",
    "\n",
    "            if producto_usuario.lower() == 'finalizar':\n",
    "                break\n",
    "            \n",
    "            # Chequeo si el producto existe antes de preguntar por la cantidad.\n",
    "            for producto in self.inventario:\n",
    "                if producto[\"nombre\"].lower() == producto_usuario.lower() and producto[\"cantidad\"] > 0:\n",
    "                    producto_en_inventario = producto\n",
    "                    break\n",
    "\n",
    "        #Si está, entonces pregunto por cuantas unicdades y controlo que haya suficientes: \n",
    "            if producto_en_inventario:\n",
    "                unidades_usuario = int(input(f\"Cuantas unidades de {producto_en_inventario['nombre']} quieres?: \"))\n",
    "                #Si las unidades que selecciona el usuario son menores que lo que tengo en stock entonces añado al carrito, el producto, con el precio y las unidades que me pide \n",
    "                if unidades_usuario <= producto_en_inventario[\"cantidad\"]:\n",
    "                    carrito.append({\n",
    "                        'nombre': producto_en_inventario['nombre'],\n",
    "                        'precio': producto_en_inventario['precio'],\n",
    "                        'cantidad': unidades_usuario\n",
    "                    })\n",
    "                    #una vez añadido al carrito, quito las unidades de mi inventario. antes hemos dicho que producto inventario sría el valor de producto que tengo en mi dicc de productos (stock). \n",
    "                    producto_en_inventario[\"cantidad\"] -= unidades_usuario\n",
    "                    total_compra += producto_en_inventario[\"precio\"] * unidades_usuario\n",
    "                    print(f\"Se han añadido {unidades_usuario} unidades de {producto_en_inventario['nombre']} a la cesta\")\n",
    "                else:\n",
    "                    #Si las unidades que me pide el usuario son mayores que lo que tengo, muestro este mensaje\n",
    "                    print(f\"No hay suficientes unidades disponibles de {producto_en_inventario['nombre']} en el inventario\")\n",
    "            else:\n",
    "                    #si me escribe un producto que no existe, muestro este mensaje. \n",
    "                print(f\"El producto {producto_usuario} no existe o está agotado\")\n",
    "\n",
    "        #Cierro el bucle de compra y paso resumen de lo comprado: \n",
    "\n",
    "        print(f\"Has finalizado la compra. El total de la compra es: {total_compra}€\")\n",
    "        print(\"__________________\")\n",
    "        print(\"\\nCarrito:\")\n",
    "        #para imprimir todos los productos que tengo en el carrito, entonces itero por cada uno de ellos e imprimo las keys + values del diccion productos. \n",
    "        for item in carrito:\n",
    "            print(f\"{item['nombre']} - Precio: {item['precio']}€ - Cantidad: {item['cantidad']} unidades\")\n",
    "        print(f\"Total de la compra: {total_compra}€\")\n",
    "\n",
    "\n",
    "#METODO 9 -- procesar pago --------------**************************---------------------------------\n",
    "\n",
    "    def procesar_pago(self):\n",
    "        # input de la cantidad que me quieren pagar + la cantida de dinero que me dan. ASí tengo para calcular el cambio. Lo redondeo a 2 decimales. \n",
    "          try:\n",
    "               cantidad_a_pagar = float(input(\"ingresa el importe exacto a pagar en € y con decimales: \"))\n",
    "               cantidad_entregada = float(input(\"ingresa la cantidad exacta que me estás entregando: \"))\n",
    "               cambio = cantidad_entregada - cantidad_a_pagar\n",
    "               cambio_redondeado = round(cambio, 2)\n",
    "\n",
    "               if cambio == 0: \n",
    "                    #Si me da la cantidad exacta: \n",
    "                    print(\"Gracias por darme la cantidad exacta, no tengo que devolverte cambio\")\n",
    "               elif cambio > 0:\n",
    "                    #si me da de más, le muestro el cambio \n",
    "                    print(f\"Has entregado {cantidad_entregada}€, tu cambio es de {cambio_redondeado}€\")\n",
    "\n",
    "               elif cambio < 0:\n",
    "                    #si me da de menos, aviso de que no es suficiente. \n",
    "                    print(f\"Por favor, ingresa una cantidad mayor al coste de tu compra\")\n",
    "                    \n",
    "          except ValueError:\n",
    "                    #si me añade por ejemplo un número negativo: \n",
    "                    print(\"Por favor, ingresa un parámetro numérico válido\") \n",
    "\n",
    "\n",
    "#METODO 10- agregar contacto - cliente --------------**************************---------------------------------\n",
    "\n",
    "    def agregar_cliente(self, nombre, email):\n",
    "          \n",
    "          #si el email ya existe en mi diccionario de clientes. \n",
    "          if email in self.clientes:\n",
    "               print(f\"El cliente con el correo {email} ya está registrado\")\n",
    "               return False #el cliente no ha sido añadido\n",
    "          else:\n",
    "               #Que el ID sea el email -- aqui tuve dudas si usar el email para evitar duplicados a posteriori. puede haber más de una Marga o María. \n",
    "               #self.clientes[email] = {\"nombre\": nombre, \"email\": email, \"compras\": []}\n",
    "               #Que el ID sea el nombre\n",
    "               #el ID del cliente será nombre =  igual a nombre + email + listado de compras. \n",
    "               self.clientes[nombre] = {\"nombre\": nombre, \"email\": email, \"compras\": []}\n",
    "          print(f\"Cliente '{nombre}' con correo electrónico '{email}' agregado correctamente.\")\n",
    "          return True #el cliente ha sido añadido\n",
    "\n",
    "\n",
    "#METODO 11- ver clientes --------------**************************---------------------------------\n",
    "\n",
    "    def ver_clientes(self):\n",
    "         \n",
    "         #pongo un values() porque quiero sacar la información de cada key: key_name = value_marga // key_email = value_marga@gmail.com\n",
    "         #itero por todos los clientes que tengo \n",
    "         for cliente in self.clientes.values():\n",
    "              nombre = cliente[\"nombre\"]\n",
    "              email = cliente[\"email\"]\n",
    "\n",
    "              print(f\"Nombre: {nombre}, Email: {email}\")\n",
    "\n",
    "\n",
    "#METODO 12 - Registar compra: --------------**************************---------------------------------\n",
    "\n",
    "    def registrar_compra(self, nombre_cliente, carrito):         \n",
    "        #para registrar la compra primero veo si tengo a este cliente. \n",
    "        # la var cliente será el nombre de cliente encontrado en mi dicc de clientes. \n",
    "        #la variable historial compras absorberá la información de todas las compras que ha hecho este cliente. \n",
    "        if nombre_cliente in self.clientes:\n",
    "            \n",
    "            cliente = self.clientes[nombre_cliente]\n",
    "            historial_compras = cliente[\"compras\"]\n",
    "\n",
    "        # Calcular el total de la compra\n",
    "        #inicializao el total de la compra en 0 \n",
    "        #itero para cada producto (sus valores carrito.keys = producto, cantidad, precio // producto.values = cushion, 2, 10.99)\n",
    "            \n",
    "            total_compra = 0\n",
    "            for producto in carrito.values(): #la info del carrito viene dado cuando llamo a la función. \n",
    "                #itero por cada producto: miro el precio del cushion * la cantidad que me pide\n",
    "                total_productos = producto[\"precio\"] * producto[\"cantidad\"]\n",
    "                #añado el total de coste del cushion al total de la cesta y así para cada producto\n",
    "                total_compra  += total_productos\n",
    "\n",
    "            # Registrar la compra\n",
    "            compra = {\"productos\": carrito, \"total\": total_compra}\n",
    "            historial_compras.append(compra) #añadimos esta compra al historial que está en cliente[\"compras\"]\n",
    "            self.ventas_totales += total_compra #sumo el coste de esta compra al total de ventas de la tienda para depsués \n",
    "            return f\"Compra registrada para {nombre_cliente}. Total de la compra: {total_compra}€\"\n",
    "        else:\n",
    "            return\"No se puede realizar la acción porque el cliente no está en el diccionario.\"\n",
    "    \n",
    "    \n",
    "\n",
    "\n",
    "# METODO 13 ver Compra cliente --------------**************************---------------------------------\n",
    "\n",
    "    def ver_compras_cliente(self, nombre_cliente):\n",
    "        \n",
    "        #si el nombre del cliente que busco está en el dicc de clientes, entonces accedo a la información a través del diccionario cliente. \n",
    "        #accedo al hisotial de compras de este cliente antes hemos guardado esta info en cliente[\"compras\"]\n",
    "        if nombre_cliente in self.clientes:\n",
    "            cliente = self.clientes[nombre_cliente]\n",
    "            historial_compras = cliente[\"compras\"]\n",
    "            print(f\"Historial de compras para {cliente['nombre']} ({cliente['email']}):\")\n",
    "        \n",
    "        #para ver su historial de compras: \n",
    "        #inicializo como si esta es la primera compra y luego itero por cada un de ellas. \n",
    "            numero_de_compra = 1\n",
    "            for compra in historial_compras:\n",
    "                print(f\"Compra {numero_de_compra}:\")\n",
    "                #una vez estoy dentro decompras del cliente, itero por cada producto dentro: obteniendo los items de producto, precio y cantidad. \n",
    "                for producto, detalles in compra[\"productos\"].items():\n",
    "                    print(f\"Producto: {producto}, Precio: {detalles['precio']}€, Cantidad: {detalles['cantidad']}\")\n",
    "\n",
    "                print(f\"Total de la compra: {compra['total']}€\")\n",
    "\n",
    "                numero_de_compra += 1  # Incrementa el número de compra, así para la siguiente, será la compra num 2 y lo muestro desglosado\n",
    "                #esto es un plus que he encontrado por las redes :D \n",
    "        \n",
    "        else:\n",
    "            print(\"El cliente no está en el diccionario.\")\n",
    "\n",
    "\n",
    "# METODO 14 -- ver ventas totales --------------**************************---------------------------------\n",
    "\n",
    "    def calcular_ventas_totales(self):\n",
    "\n",
    "            self.ventas_totales = 0.0\n",
    "            #empiezo en 0 e itero por cada uno de los valores de cliente. \n",
    "            #entro en los valores de la key compras de cada cliente y miro:\n",
    "            #las ventas totales seran igual a el total de la compra del cliente que estoy iterando + el total que llevo acumulado por cada uno de los clientes iterados antes. \n",
    "\n",
    "            for cliente in self.clientes.values():\n",
    "                for compra in cliente[\"compras\"]:\n",
    "                    self.ventas_totales = self.ventas_totales + compra[\"total\"]\n",
    "\n",
    "            print(f\"ventas totales de la tienda: {self.ventas_totales}€\")"
   ]
  },
  {
   "cell_type": "code",
   "execution_count": 85,
   "metadata": {},
   "outputs": [],
   "source": [
    "# 0 - Crear instancia de la clase TiendaOnline: \n",
    "\n",
    "mi_tienda = TiendaOnline(\"Margarita's K-Lab\")\n"
   ]
  },
  {
   "cell_type": "code",
   "execution_count": 86,
   "metadata": {},
   "outputs": [
    {
     "name": "stdout",
     "output_type": "stream",
     "text": [
      "Producto 'Cushion' ha sido añadido.\n",
      "Producto 'Hidratante' ha sido añadido.\n",
      "Producto 'Gloss' ha sido añadido.\n",
      "Producto 'Blush' ha sido añadido.\n",
      "Producto 'Mascarilla' ha sido añadido.\n",
      "Producto 'Tónico' ha sido añadido.\n",
      "Producto 'Sérum' ha sido añadido.\n"
     ]
    },
    {
     "data": {
      "text/plain": [
       "[{'nombre': 'Cushion', 'precio': 25.99, 'cantidad': 100},\n",
       " {'nombre': 'Hidratante', 'precio': 12.99, 'cantidad': 50},\n",
       " {'nombre': 'Gloss', 'precio': 9.99, 'cantidad': 20},\n",
       " {'nombre': 'Blush', 'precio': 7.99, 'cantidad': 50},\n",
       " {'nombre': 'Mascarilla', 'precio': 9.99, 'cantidad': 20},\n",
       " {'nombre': 'Tónico', 'precio': 12.99, 'cantidad': 50},\n",
       " {'nombre': 'Sérum', 'precio': 22.99, 'cantidad': 50}]"
      ]
     },
     "execution_count": 86,
     "metadata": {},
     "output_type": "execute_result"
    }
   ],
   "source": [
    "# 1 - Añado productos a mi inventario: \n",
    "mi_tienda.agregar_producto(\"Cushion\", 25.99, 100)\n",
    "mi_tienda.agregar_producto(\"Hidratante\", 12.99, 50)\n",
    "mi_tienda.agregar_producto(\"Gloss\", 9.99, 20)\n",
    "mi_tienda.agregar_producto(\"Blush\", 7.99, 50)\n",
    "mi_tienda.agregar_producto(\"Mascarilla\", 9.99, 20)\n",
    "mi_tienda.agregar_producto(\"Tónico\", 12.99, 50)\n",
    "mi_tienda.agregar_producto(\"Sérum\", 22.99, 50)"
   ]
  },
  {
   "cell_type": "code",
   "execution_count": 87,
   "metadata": {},
   "outputs": [
    {
     "name": "stdout",
     "output_type": "stream",
     "text": [
      "Inventario de Margarita's K-Lab:\n",
      "Nombre: Cushion, Precio: 25.99€ -- Cantidad: 100\n",
      "Nombre: Hidratante, Precio: 12.99€ -- Cantidad: 50\n",
      "Nombre: Gloss, Precio: 9.99€ -- Cantidad: 20\n",
      "Nombre: Blush, Precio: 7.99€ -- Cantidad: 50\n",
      "Nombre: Mascarilla, Precio: 9.99€ -- Cantidad: 20\n",
      "Nombre: Tónico, Precio: 12.99€ -- Cantidad: 50\n",
      "Nombre: Sérum, Precio: 22.99€ -- Cantidad: 50\n"
     ]
    }
   ],
   "source": [
    "# 2 - Veo el inventario actual: \n",
    "mi_tienda.ver_inventario()"
   ]
  },
  {
   "cell_type": "code",
   "execution_count": 88,
   "metadata": {},
   "outputs": [
    {
     "name": "stdout",
     "output_type": "stream",
     "text": [
      "Nombre: Cushion, Precio: 25.99€, Cantidad: 100\n"
     ]
    }
   ],
   "source": [
    "# 3 - Buscar productos en mi inventario\n",
    "\n",
    "product_info = mi_tienda.buscar_producto(\"Cushion\")\n",
    "  "
   ]
  },
  {
   "cell_type": "code",
   "execution_count": 89,
   "metadata": {},
   "outputs": [
    {
     "name": "stdout",
     "output_type": "stream",
     "text": [
      "El producto Cushion ya existe. El stock ha sido actualizado a 110 uds.\n",
      "RECORDATORIO: Este es el inventario completo:\n",
      "Cushion --  110 uds.\n",
      "Hidratante --  50 uds.\n",
      "Gloss --  20 uds.\n",
      "Blush --  50 uds.\n",
      "Mascarilla --  20 uds.\n",
      "Tónico --  50 uds.\n",
      "Sérum --  50 uds.\n",
      "El producto Croqueta no está en el inventario.\n",
      "RECORDATORIO: Este es el inventario completo:\n",
      "Cushion --  110 uds.\n",
      "Hidratante --  50 uds.\n",
      "Gloss --  20 uds.\n",
      "Blush --  50 uds.\n",
      "Mascarilla --  20 uds.\n",
      "Tónico --  50 uds.\n",
      "Sérum --  50 uds.\n"
     ]
    }
   ],
   "source": [
    "# 4- Actualizo Stock: \n",
    "\n",
    "mi_tienda.actualizar_stock(\"Cushion\", 10)  #añado 10 unidades \n",
    "mi_tienda.actualizar_stock(\"Croqueta\", 10)  #añado 10 unidades \n",
    "\n"
   ]
  },
  {
   "cell_type": "code",
   "execution_count": 90,
   "metadata": {},
   "outputs": [
    {
     "name": "stdout",
     "output_type": "stream",
     "text": [
      "El producto Sérum ha sido eliminado de tu inventario\n"
     ]
    }
   ],
   "source": [
    "# 5 - Eliminar producto: \n",
    "\n",
    "mi_tienda.eliminar_producto(\"Sérum\")"
   ]
  },
  {
   "cell_type": "code",
   "execution_count": 91,
   "metadata": {},
   "outputs": [
    {
     "name": "stdout",
     "output_type": "stream",
     "text": [
      "El valor total del inventario es de: 4957.0€\n"
     ]
    }
   ],
   "source": [
    "# 6- Calcular valor inventario: \n",
    "\n",
    "mi_tienda.calcular_valor_inventario()"
   ]
  },
  {
   "cell_type": "code",
   "execution_count": 92,
   "metadata": {},
   "outputs": [
    {
     "name": "stdout",
     "output_type": "stream",
     "text": [
      "Resultados encontrados:\n",
      "Nombre: Mascarilla, Precio: 9.99€\n"
     ]
    }
   ],
   "source": [
    "# 7 - Regex \n",
    "\n",
    "mi_tienda.buscar_producto_regex(r\"mas.*la\")"
   ]
  },
  {
   "cell_type": "code",
   "execution_count": 93,
   "metadata": {},
   "outputs": [
    {
     "name": "stdout",
     "output_type": "stream",
     "text": [
      "Se han añadido 1 unidades de Cushion a la cesta\n",
      "Se han añadido 2 unidades de Gloss a la cesta\n",
      "Has finalizado la compra. El total de la compra es: 45.97€\n",
      "__________________\n",
      "\n",
      "Carrito:\n",
      "Cushion - Precio: 25.99€ - Cantidad: 1 unidades\n",
      "Gloss - Precio: 9.99€ - Cantidad: 2 unidades\n",
      "Total de la compra: 45.97€\n"
     ]
    }
   ],
   "source": [
    "# 8 - Realizar compra: \n",
    "\n",
    "carrito = mi_tienda.realizar_compra() #he guardado esta llamada en una variable para que no me saliera el output del carrito en consola (cleaning outputs)"
   ]
  },
  {
   "cell_type": "code",
   "execution_count": 94,
   "metadata": {},
   "outputs": [
    {
     "name": "stdout",
     "output_type": "stream",
     "text": [
      "Has entregado 50.0€, tu cambio es de 4.03€\n"
     ]
    }
   ],
   "source": [
    "# 9 - Procesar pago: \n",
    "\n",
    "mi_tienda.procesar_pago()"
   ]
  },
  {
   "cell_type": "code",
   "execution_count": 95,
   "metadata": {},
   "outputs": [
    {
     "name": "stdout",
     "output_type": "stream",
     "text": [
      "Cliente 'Alba' con correo electrónico 'albassi@gmail.com' agregado correctamente.\n",
      "Cliente 'Sigrid' con correo electrónico 'sipuimnida@gmail.com' agregado correctamente.\n",
      "Cliente 'Aina' con correo electrónico 'pi31416@gmail.com' agregado correctamente.\n"
     ]
    },
    {
     "data": {
      "text/plain": [
       "True"
      ]
     },
     "execution_count": 95,
     "metadata": {},
     "output_type": "execute_result"
    }
   ],
   "source": [
    "# 10 - Agregar cliente: \n",
    "\n",
    "mi_tienda.agregar_cliente(\"Alba\", \"albassi@gmail.com\")\n",
    "mi_tienda.agregar_cliente(\"Sigrid\", \"sipuimnida@gmail.com\")\n",
    "mi_tienda.agregar_cliente(\"Aina\", \"pi31416@gmail.com\")"
   ]
  },
  {
   "cell_type": "code",
   "execution_count": 96,
   "metadata": {},
   "outputs": [
    {
     "name": "stdout",
     "output_type": "stream",
     "text": [
      "Nombre: Alba, Email: albassi@gmail.com\n",
      "Nombre: Sigrid, Email: sipuimnida@gmail.com\n",
      "Nombre: Aina, Email: pi31416@gmail.com\n"
     ]
    }
   ],
   "source": [
    "# 11- Ver clientes: \n",
    "\n",
    "mi_tienda.ver_clientes()"
   ]
  },
  {
   "cell_type": "code",
   "execution_count": 97,
   "metadata": {},
   "outputs": [
    {
     "data": {
      "text/plain": [
       "'Compra registrada para Alba. Total de la compra: 64.97€'"
      ]
     },
     "execution_count": 97,
     "metadata": {},
     "output_type": "execute_result"
    }
   ],
   "source": [
    "# 12 - Registrar compra: \n",
    "\n",
    "mi_tienda.registrar_compra(\"Alba\", {\"Cushion\": {\"precio\": 25.99, \"cantidad\": 2},\"Hidratante\": {\"precio\": 12.99, \"cantidad\": 1}})\n"
   ]
  },
  {
   "cell_type": "code",
   "execution_count": 98,
   "metadata": {},
   "outputs": [
    {
     "data": {
      "text/plain": [
       "'Compra registrada para Sigrid. Total de la compra: 32.97€'"
      ]
     },
     "execution_count": 98,
     "metadata": {},
     "output_type": "execute_result"
    }
   ],
   "source": [
    "mi_tienda.registrar_compra(\"Sigrid\", {\"Gloss\": {\"precio\": 9.99, \"cantidad\": 2},\"Hidratante\": {\"precio\": 12.99, \"cantidad\": 1}})"
   ]
  },
  {
   "cell_type": "code",
   "execution_count": 99,
   "metadata": {},
   "outputs": [
    {
     "name": "stdout",
     "output_type": "stream",
     "text": [
      "Historial de compras para Sigrid (sipuimnida@gmail.com):\n",
      "Compra 1:\n",
      "Producto: Gloss, Precio: 9.99€, Cantidad: 2\n",
      "Producto: Hidratante, Precio: 12.99€, Cantidad: 1\n",
      "Total de la compra: 32.97€\n"
     ]
    }
   ],
   "source": [
    "\n",
    "# 13 -- Ver compra cliente 1 \n",
    "\n",
    "mi_tienda.ver_compras_cliente(\"Sigrid\")"
   ]
  },
  {
   "cell_type": "code",
   "execution_count": 100,
   "metadata": {},
   "outputs": [
    {
     "name": "stdout",
     "output_type": "stream",
     "text": [
      "Historial de compras para Alba (albassi@gmail.com):\n",
      "Compra 1:\n",
      "Producto: Cushion, Precio: 25.99€, Cantidad: 2\n",
      "Producto: Hidratante, Precio: 12.99€, Cantidad: 1\n",
      "Total de la compra: 64.97€\n"
     ]
    }
   ],
   "source": [
    "# 13 -- Ver compra cliente 2 \n",
    "mi_tienda.ver_compras_cliente(\"Alba\")"
   ]
  },
  {
   "cell_type": "code",
   "execution_count": 101,
   "metadata": {},
   "outputs": [
    {
     "name": "stdout",
     "output_type": "stream",
     "text": [
      "ventas totales de la tienda: 97.94€\n"
     ]
    }
   ],
   "source": [
    "# 14 -- calcular ventas totales \n",
    "\n",
    "mi_tienda.calcular_ventas_totales()"
   ]
  }
 ],
 "metadata": {
  "kernelspec": {
   "display_name": "base",
   "language": "python",
   "name": "python3"
  },
  "language_info": {
   "codemirror_mode": {
    "name": "ipython",
    "version": 3
   },
   "file_extension": ".py",
   "mimetype": "text/x-python",
   "name": "python",
   "nbconvert_exporter": "python",
   "pygments_lexer": "ipython3",
   "version": "3.11.5"
  },
  "orig_nbformat": 4
 },
 "nbformat": 4,
 "nbformat_minor": 2
}
