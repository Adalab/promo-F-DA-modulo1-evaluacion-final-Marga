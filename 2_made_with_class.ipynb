{
 "cells": [
  {
   "cell_type": "code",
   "execution_count": 1,
   "metadata": {},
   "outputs": [],
   "source": [
    "\n",
    "import re\n",
    "\n",
    "class TiendaOnline:\n",
    "\n",
    "    def __init__(self, nombre): \n",
    "        self.nombre = nombre\n",
    "        self.inventario = [] #lista vacía donde pondremos las claves de nombre, precio y cantidad {[nombre, precio, stock]}\n",
    "        self.clientes = {}  #diccionario donde pondremos las claves de nombre e email. {{'Cliente1': {'email': 'cliente1@email.com', 'compras': []},}\n",
    "        self.ventas_totales = 0.0 #Es un float con decimales que se inicializa en cero. \n",
    "        #Lo he puesto así porque he leido que es una forma de asegurarse que tiene en cuenta los decimales, en contextos de precios(finanzas) \n",
    "        # si solo pongo 0 sería un integer y tendría que convertirlo a float. así ya esta resuelto en todo momento (si yo agrego 6.5 solo me mostraria el 6)\n",
    "\n",
    "#METODO 1 -- agregar producto\n",
    "\n",
    "    def agregar_producto(self, nombre, precio, cantidad):\n",
    "            # Chequeo si mi producto ya existe: buscando y comparando si el nombre y nombre dentro del diccionario, coinciden.\n",
    "            for diccionario in self.inventario:\n",
    "                if diccionario[\"nombre\"] == nombre:\n",
    "                    print(f\"El producto '{nombre}' ya existe en el inventario.\")\n",
    "                    return\n",
    "\n",
    "            # Si el producto no existe, lo voy a añadir a la lista de productos. Como? haciendo un append (el inventario es LISTA por eso puedo hacer append)\n",
    "            diccionario_producto = {\"nombre\": nombre, \"precio\": precio, \"cantidad\": cantidad}\n",
    "            self.inventario.append(diccionario_producto)\n",
    "            print(f\"Producto '{nombre}' ha sido añadido.\")\n",
    "\n",
    "            return self.inventario\n",
    "\n",
    "\n",
    "# METODO 2 -- ver inventario REVISAR PRINTS vs RETURNS \n",
    "\n",
    "    def ver_inventario(self): \n",
    "         print(f\"Inventario de {self.nombre}:\")\n",
    "         for diccionario in self.inventario: \n",
    "          print(f\"Nombre: {diccionario['nombre']}, Precio: {diccionario['precio']}€, Cantidad: {diccionario['cantidad']}\")\n",
    "              \n",
    "\n",
    "\n",
    "\n",
    "#METODO 3 -- buscar producto -- REVISAR PRINTS vs RETURNS (cuando es print y cuando es return? )\n",
    "\n",
    "    def buscar_producto(self, nombre):  \n",
    "\n",
    "        match = False\n",
    "        for producto in self.inventario:\n",
    "            if producto['nombre'].lower() == nombre.lower():\n",
    "                print(f\"Nombre: {producto['nombre']}, Precio: {producto['precio']}€, Cantidad: {producto['cantidad']}\")\n",
    "                match = True\n",
    "        if not match:\n",
    "            print(f\"No se encontró el producto con el nombre: {nombre}\")\n",
    "\n",
    "\n",
    "\n",
    "\n",
    "# METODO 4 -- actualizar stock  -- REVISAR COMMENTS \n",
    "\n",
    "    def actualizar_stock(self, nombre, cantidad):\n",
    "        for producto in self.inventario:\n",
    "            if producto['nombre'] == nombre:\n",
    "                producto_encontrado = producto\n",
    "                break\n",
    "\n",
    "\n",
    "        # Verifica si el producto está en el inventario antes de actualizar la cantidad.\n",
    "\n",
    "        if producto_encontrado['cantidad'] >= 0:\n",
    "           producto_encontrado['cantidad'] += cantidad\n",
    "           print(f\"El producto {nombre} ya existe. El stock ha sido actualizado a {producto_encontrado['cantidad']} piezas.\")\n",
    "\n",
    "        else:\n",
    "            print(f'El producto \"{nombre}\" no está en el inventario.')\n",
    "\n",
    "\n",
    "        # Ahora, después de verificar si el producto existe o no, puedes agregarlo al inventario si es necesario.\n",
    "        if not producto_encontrado:\n",
    "            nuevo_producto = {'nombre': nombre, 'precio': 0.0, 'cantidad': cantidad}\n",
    "            self.inventario.append(nuevo_producto)\n",
    "            print(f\"El producto {nombre} ha sido añadido al inventario con una cantidad de: {cantidad} piezas\")\n",
    "\n",
    "\n",
    "        # Muestra el inventario completo.\n",
    "        print(\"Este es el inventario completo:\")\n",
    "        for producto in self.inventario:\n",
    "                print(f\"{producto['nombre']}: {producto['cantidad']}\")\n",
    "    \n",
    "\n",
    "\n",
    "# METODO 5 -- eliminar producto: \n",
    "\n",
    "    def eliminar_producto(self, nombre):\n",
    "           \n",
    "           for diccionario in self.inventario: \n",
    "                if diccionario[\"nombre\"].lower() == nombre.lower():\n",
    "                    self.inventario.remove(diccionario)\n",
    "                    print(f\"El producto {nombre} ha sido eliminado de tu inventario\")\n",
    "                    return\n",
    "           else:           \n",
    "     # tengo que poner este print fuera del for loop pq es el caso en el que el producto no está en el inventario (si esta dentro no imprime)\n",
    "            print(f\"El producto {nombre} no existe en tu inventario\")\n",
    " \n",
    "\n",
    "# METODO 6 -- calcular valor inventario \n",
    "\n",
    "    def calcular_valor_inventario(self): \n",
    "        total_valor = 0.0\n",
    "        \n",
    "        for diccionario in self.inventario:\n",
    "        \n",
    "            precio = diccionario[\"precio\"]\n",
    "            cantidad = diccionario[\"cantidad\"]\n",
    "            valor_producto = precio * cantidad\n",
    "            total_valor = round(total_valor + valor_producto, 2)\n",
    "\n",
    "        print(f\"El valor total del inventario es de: {total_valor}€\")\n",
    "\n",
    "\n",
    "#METODO 7 -- regex -- buscar Patron\n",
    "\n",
    "\n",
    "    def buscar_producto_regex(self, patron):\n",
    "\n",
    "        resultados = []\n",
    "        #patron = r\"ga.*na\"\n",
    "\n",
    "        for producto in self.inventario: \n",
    "            nombre_producto = producto['nombre']\n",
    "            if re.search(patron, nombre_producto, re.IGNORECASE):\n",
    "                resultados.append(producto)\n",
    "        print(\"Resultados encontrados:\")\n",
    "\n",
    "        if not resultados: #sería como poner solo \"if resultados is not []\" or if resultados:  or resultados  = true. (lo recomendable es true / false)\n",
    "            print(\"No se han encontrado resultados\")\n",
    "            \n",
    "        else:\n",
    "            for resultado in resultados: \n",
    "                print(f\"Nombre: {resultado['nombre']}, Precio: {resultado['precio']}\")\n",
    "                \n",
    "\n",
    "\n",
    "#METODO 8 -- realizar compra \n",
    "\n",
    "    def realizar_compra(self):\n",
    "\n",
    "        carrito = []\n",
    "        total_compra = 0.0\n",
    "\n",
    "        while True:\n",
    "            print(\"Inventario:\")\n",
    "            producto_usuario = input(\"¿Qué producto quieres comprar? (Escribe 'Finalizar' para finalizar la compra): \")\n",
    "\n",
    "            if producto_usuario.lower() == 'finalizar':\n",
    "                break\n",
    "\n",
    "            # Verificamos si el producto existe antes de preguntar por la cantidad.\n",
    "            producto_en_inventario = None\n",
    "            for producto in self.inventario:\n",
    "                if producto[\"nombre\"].lower() == producto_usuario.lower() and producto[\"cantidad\"] > 0:\n",
    "                    producto_en_inventario = producto\n",
    "                    break\n",
    "\n",
    "            if producto_en_inventario:\n",
    "                unidades_usuario = int(input(f\"Cuantas unidades de {producto_en_inventario['nombre']} quieres?: \"))\n",
    "                if unidades_usuario <= producto_en_inventario[\"cantidad\"]:\n",
    "                    carrito.append({\n",
    "                        'nombre': producto_en_inventario['nombre'],\n",
    "                        'precio': producto_en_inventario['precio'],\n",
    "                        'cantidad': unidades_usuario\n",
    "                    })\n",
    "\n",
    "                    producto_en_inventario[\"cantidad\"] -= unidades_usuario\n",
    "                    total_compra += producto_en_inventario[\"precio\"] * unidades_usuario\n",
    "                    print(f\"Se han añadido {unidades_usuario} unidades de {producto_en_inventario['nombre']} a la cesta\")\n",
    "                else:\n",
    "                    print(f\"No hay suficientes unidades disponibles de {producto_en_inventario['nombre']} en el inventario\")\n",
    "            else:\n",
    "                print(f\"El producto {producto_usuario} no existe o está agotado\")\n",
    "\n",
    "        print(f\"Has finalizado la compra. El total de la compra es: {total_compra}€\")\n",
    "        print(\"__________________\")\n",
    "        print(\"\\nCarrito:\")\n",
    "        for item in carrito:\n",
    "            print(f\"{item['nombre']} - Precio: {item['precio']}€ - Cantidad: {item['cantidad']} unidades\")\n",
    "        print(f\"Total de la compra: {total_compra}€\")\n",
    "        return carrito\n",
    "\n",
    "\n",
    "#METODO 9 -- procesar pago \n",
    "\n",
    "    def procesar_pago(self):\n",
    "          \n",
    "          try:\n",
    "               cantidad_a_pagar = float(input(\"ingresa el importe exacto a pagar en € y con decimales: \"))\n",
    "               cantidad_entregada = float(input(\"ingresa la cantidad exacta que me estás entregando: \"))\n",
    "               cambio = cantidad_entregada - cantidad_a_pagar\n",
    "               cambio_redondeado = round(cambio, 2)\n",
    "\n",
    "               if cambio == 0: \n",
    "                    print(\"Gracias por darme la cantidad exacta, no tengo que devolverte cambio\")\n",
    "               elif cambio > 0:\n",
    "                    \n",
    "                    print(f\"Has entregado {cantidad_entregada}€, tu cambio es de {cambio_redondeado}€\")\n",
    "\n",
    "               elif cambio < 0:\n",
    "                    print(f\"Por favor, ingresa una cantidad mayor al coste de tu compra\")\n",
    "                    \n",
    "          except ValueError:\n",
    "                    print(\"por favor, ingresa un parámetro numérico válido\") \n",
    "\n",
    "\n",
    "#METODO 10- agregar contacto - cliente\n",
    "\n",
    "    def agregar_cliente(self, nombre, email):\n",
    "          \n",
    "          if email in self.clientes:\n",
    "               print(f\"El cliente con el correo {email} ya está registrado\")\n",
    "               return False #el cliente no ha sido añadido\n",
    "          else:\n",
    "               #Que el ID sea el email -- aqui tuve dudas si usar el email para evitar duplicados a posteriori. puede haber más de una Marga o María. \n",
    "               #self.clientes[email] = {\"nombre\": nombre, \"email\": email, \"compras\": []}\n",
    "               #Que el ID sea el nombre\n",
    "               self.clientes[nombre] = {\"nombre\": nombre, \"email\": email, \"compras\": []}\n",
    "          print(f\"Cliente '{nombre}' con correo electrónico '{email}' agregado correctamente.\")\n",
    "          return True #el cliente ha sido añadido\n",
    "\n",
    "\n",
    "#METODO 11- ver clientes \n",
    "\n",
    "    def ver_clientes(self):\n",
    "         \n",
    "         #pongo un values() porque quiero sacar la información de cada key: key_name = value_marga // key_email = value_marga@gmail.com\n",
    "         for cliente in self.clientes.values():\n",
    "              nombre = cliente[\"nombre\"]\n",
    "              email = cliente[\"email\"]\n",
    "\n",
    "              print(f\"Nombre: {nombre}, Email: {email}\")\n",
    "\n",
    "\n",
    "#METODO 12 - Registar compra: \n",
    "\n",
    "    def registrar_compra(self, nombre_cliente, carrito):         \n",
    "        \n",
    "         \n",
    "        \n",
    "        # Buscar al cliente en el diccionario de clientes\n",
    "        if nombre_cliente in self.clientes:\n",
    "            \n",
    "            cliente = self.clientes[nombre_cliente]\n",
    "            historial_compras = cliente[\"compras\"]\n",
    "\n",
    "        # Calcular el total de la compra\n",
    "        #total_compra = sum(producto[\"precio\"] * producto[\"cantidad\"] for producto in carrito.values())\n",
    "            \n",
    "            total_compra = 0\n",
    "            for producto in carrito.values():\n",
    "                total_productos = producto[\"precio\"] * producto[\"cantidad\"]\n",
    "                total_compra  += total_productos\n",
    "\n",
    "            # Registrar la compra\n",
    "            compra = {\"productos\": carrito, \"total\": total_compra}\n",
    "            historial_compras.append(compra)\n",
    "            self.ventas_totales += total_compra\n",
    "            return f\"Compra registrada para {nombre_cliente}. Total de la compra: {total_compra}€\"\n",
    "        else:\n",
    "            return\"No se puede realizar la acción porque el cliente no está en el diccionario.\"\n",
    "    \n",
    "    \n",
    "\n",
    "\n",
    "# METODO 13 ver Compra cliente --------------**************************---------------------------------\n",
    "\n",
    "    def ver_compras_cliente(self, nombre_cliente):\n",
    "        \n",
    "        #carrito = {}\n",
    "            \n",
    "        if nombre_cliente in self.clientes:\n",
    "            cliente = self.clientes[nombre_cliente]\n",
    "            historial_compras = cliente[\"compras\"]\n",
    "            print(f\"Historial de compras para {cliente['nombre']} ({cliente['email']}):\")\n",
    "        \n",
    "            num_compra = 1\n",
    "            for compra in historial_compras:\n",
    "                print(f\"Compra {num_compra}:\")\n",
    "                \n",
    "                for producto, detalles in compra[\"productos\"].items():\n",
    "                    print(f\"Producto: {producto}, Precio: {detalles['precio']}€, Cantidad: {detalles['cantidad']}\")\n",
    "\n",
    "                print(f\"Total de la compra: ${compra['total']}\")\n",
    "\n",
    "                num_compra += 1  # Incrementa el número de compra\n",
    "        \n",
    "        else:\n",
    "            print(\"El cliente no está en el diccionario.\")\n",
    "\n",
    "\n",
    "# METODO 14 -- \n",
    "\n",
    "    def calcular_ventas_totales(self):\n",
    "\n",
    "            self.ventas_totales = 0.0\n",
    "\n",
    "            for cliente in self.clientes.values():\n",
    "                for compra in cliente[\"compras\"]:\n",
    "                    self.ventas_totales = self.ventas_totales + compra[\"total\"]\n",
    "\n",
    "            print(f\"ventas totales de la tienda: {self.ventas_totales}€\")"
   ]
  },
  {
   "cell_type": "code",
   "execution_count": 2,
   "metadata": {},
   "outputs": [],
   "source": [
    "# 0 - Crear instancia de la clase TiendaOnline: \n",
    "\n",
    "mi_tienda = TiendaOnline(\"Margarita's Boutique\")\n"
   ]
  },
  {
   "cell_type": "code",
   "execution_count": 3,
   "metadata": {},
   "outputs": [
    {
     "name": "stdout",
     "output_type": "stream",
     "text": [
      "Producto 'Camiseta' ha sido añadido.\n",
      "Producto 'Calcetines' ha sido añadido.\n",
      "Producto 'Gabardina' ha sido añadido.\n",
      "Producto 'Top' ha sido añadido.\n"
     ]
    },
    {
     "data": {
      "text/plain": [
       "[{'nombre': 'Camiseta', 'precio': 10.99, 'cantidad': 100},\n",
       " {'nombre': 'Calcetines', 'precio': 5.99, 'cantidad': 50},\n",
       " {'nombre': 'Gabardina', 'precio': 29.99, 'cantidad': 20},\n",
       " {'nombre': 'Top', 'precio': 5.99, 'cantidad': 50}]"
      ]
     },
     "execution_count": 3,
     "metadata": {},
     "output_type": "execute_result"
    }
   ],
   "source": [
    "# 1 - Añado productos a mi inventario: \n",
    "mi_tienda.agregar_producto(\"Camiseta\", 10.99, 100)\n",
    "mi_tienda.agregar_producto(\"Calcetines\", 5.99, 50)\n",
    "mi_tienda.agregar_producto(\"Gabardina\", 29.99, 20)\n",
    "mi_tienda.agregar_producto(\"Top\", 5.99, 50)"
   ]
  },
  {
   "cell_type": "code",
   "execution_count": 4,
   "metadata": {},
   "outputs": [
    {
     "name": "stdout",
     "output_type": "stream",
     "text": [
      "Inventario de Margarita's Boutique:\n",
      "Nombre: Camiseta, Precio: 10.99€, Cantidad: 100\n",
      "Nombre: Calcetines, Precio: 5.99€, Cantidad: 50\n",
      "Nombre: Gabardina, Precio: 29.99€, Cantidad: 20\n",
      "Nombre: Top, Precio: 5.99€, Cantidad: 50\n"
     ]
    }
   ],
   "source": [
    "# 2 - Veo el inventario actual: \n",
    "mi_tienda.ver_inventario()"
   ]
  },
  {
   "cell_type": "code",
   "execution_count": 5,
   "metadata": {},
   "outputs": [
    {
     "name": "stdout",
     "output_type": "stream",
     "text": [
      "Nombre: Camiseta, Precio: 10.99€, Cantidad: 100\n"
     ]
    }
   ],
   "source": [
    "# 3 - Buscar productos en mi inventario\n",
    "\n",
    "product_info = mi_tienda.buscar_producto(\"Camiseta\")\n",
    "  "
   ]
  },
  {
   "cell_type": "code",
   "execution_count": 6,
   "metadata": {},
   "outputs": [
    {
     "name": "stdout",
     "output_type": "stream",
     "text": [
      "El producto Camiseta ya existe. El stock ha sido actualizado a 110 piezas.\n",
      "Este es el inventario completo:\n",
      "Camiseta: 110\n",
      "Calcetines: 50\n",
      "Gabardina: 20\n",
      "Top: 50\n"
     ]
    }
   ],
   "source": [
    "# 4- Actualizo Stock: \n",
    "\n",
    "mi_tienda.actualizar_stock(\"Camiseta\", 10)  #añado 10 unidades \n",
    "\n"
   ]
  },
  {
   "cell_type": "code",
   "execution_count": 7,
   "metadata": {},
   "outputs": [
    {
     "name": "stdout",
     "output_type": "stream",
     "text": [
      "El producto Calcetines ha sido eliminado de tu inventario\n"
     ]
    }
   ],
   "source": [
    "# 5 - Eliminar producto: \n",
    "\n",
    "mi_tienda.eliminar_producto(\"Calcetines\")"
   ]
  },
  {
   "cell_type": "code",
   "execution_count": 8,
   "metadata": {},
   "outputs": [
    {
     "name": "stdout",
     "output_type": "stream",
     "text": [
      "El valor total del inventario es de: 2108.2€\n"
     ]
    }
   ],
   "source": [
    "# 6- Calcular valor inventario: \n",
    "\n",
    "mi_tienda.calcular_valor_inventario()"
   ]
  },
  {
   "cell_type": "code",
   "execution_count": 9,
   "metadata": {},
   "outputs": [
    {
     "name": "stdout",
     "output_type": "stream",
     "text": [
      "Resultados encontrados:\n",
      "Nombre: Gabardina, Precio: 29.99\n"
     ]
    }
   ],
   "source": [
    "# 7 - Regex \n",
    "\n",
    "mi_tienda.buscar_producto_regex(r\"ga.*na\")"
   ]
  },
  {
   "cell_type": "code",
   "execution_count": 10,
   "metadata": {},
   "outputs": [
    {
     "name": "stdout",
     "output_type": "stream",
     "text": [
      "Inventario:\n",
      "Se han añadido 1 unidades de Gabardina a la cesta\n",
      "Inventario:\n",
      "Se han añadido 2 unidades de Top a la cesta\n",
      "Inventario:\n",
      "Has finalizado la compra. El total de la compra es: 41.97€\n",
      "__________________\n",
      "\n",
      "Carrito:\n",
      "Gabardina - Precio: 29.99€ - Cantidad: 1 unidades\n",
      "Top - Precio: 5.99€ - Cantidad: 2 unidades\n",
      "Total de la compra: 41.97€\n"
     ]
    },
    {
     "data": {
      "text/plain": [
       "[{'nombre': 'Gabardina', 'precio': 29.99, 'cantidad': 1},\n",
       " {'nombre': 'Top', 'precio': 5.99, 'cantidad': 2}]"
      ]
     },
     "execution_count": 10,
     "metadata": {},
     "output_type": "execute_result"
    }
   ],
   "source": [
    "# 8 - Realizar compra: \n",
    "\n",
    "mi_tienda.realizar_compra()"
   ]
  },
  {
   "cell_type": "code",
   "execution_count": 11,
   "metadata": {},
   "outputs": [
    {
     "name": "stdout",
     "output_type": "stream",
     "text": [
      "Has entregado 50.0€, tu cambio es de 8.03€\n"
     ]
    }
   ],
   "source": [
    "# 9 - Procesar pago: \n",
    "\n",
    "mi_tienda.procesar_pago()"
   ]
  },
  {
   "cell_type": "code",
   "execution_count": 12,
   "metadata": {},
   "outputs": [
    {
     "name": "stdout",
     "output_type": "stream",
     "text": [
      "Cliente 'Alba' con correo electrónico 'albassi@gmail.com' agregado correctamente.\n"
     ]
    },
    {
     "data": {
      "text/plain": [
       "True"
      ]
     },
     "execution_count": 12,
     "metadata": {},
     "output_type": "execute_result"
    }
   ],
   "source": [
    "# 10 - Agregar cliente: \n",
    "\n",
    "mi_tienda.agregar_cliente(\"Alba\", \"albassi@gmail.com\")"
   ]
  },
  {
   "cell_type": "code",
   "execution_count": 13,
   "metadata": {},
   "outputs": [
    {
     "name": "stdout",
     "output_type": "stream",
     "text": [
      "Nombre: Alba, Email: albassi@gmail.com\n"
     ]
    }
   ],
   "source": [
    "# 11- Ver clientes: \n",
    "\n",
    "mi_tienda.ver_clientes()"
   ]
  },
  {
   "cell_type": "code",
   "execution_count": 17,
   "metadata": {},
   "outputs": [
    {
     "data": {
      "text/plain": [
       "'Compra registrada para Alba. Total de la compra: 41.97€'"
      ]
     },
     "execution_count": 17,
     "metadata": {},
     "output_type": "execute_result"
    }
   ],
   "source": [
    "# 12 - Registrar compra: \n",
    "\n",
    "mi_tienda.registrar_compra(\"Alba\", {\n",
    "    \"Camiseta\": {\"precio\": 10.99, \"cantidad\": 2},\n",
    "    \"Vestido\": {\"precio\": 19.99, \"cantidad\": 1}\n",
    "})"
   ]
  },
  {
   "cell_type": "code",
   "execution_count": 15,
   "metadata": {},
   "outputs": [
    {
     "name": "stdout",
     "output_type": "stream",
     "text": [
      "Historial de compras para Alba (albassi@gmail.com):\n",
      "Compra 1:\n",
      "Producto: Camiseta, Precio: 10.99€, Cantidad: 2\n",
      "Producto: Vestido, Precio: 19.99€, Cantidad: 1\n",
      "Total de la compra: $41.97\n"
     ]
    }
   ],
   "source": [
    "# 13 -- Ver compra  cliente\n",
    "\n",
    "mi_tienda.ver_compras_cliente(\"Alba\")"
   ]
  },
  {
   "cell_type": "code",
   "execution_count": 16,
   "metadata": {},
   "outputs": [
    {
     "name": "stdout",
     "output_type": "stream",
     "text": [
      "ventas totales de la tienda: 41.97€\n"
     ]
    }
   ],
   "source": [
    "# 14 -- calcular ventas totales \n",
    "\n",
    "mi_tienda.calcular_ventas_totales()"
   ]
  }
 ],
 "metadata": {
  "kernelspec": {
   "display_name": "base",
   "language": "python",
   "name": "python3"
  },
  "language_info": {
   "codemirror_mode": {
    "name": "ipython",
    "version": 3
   },
   "file_extension": ".py",
   "mimetype": "text/x-python",
   "name": "python",
   "nbconvert_exporter": "python",
   "pygments_lexer": "ipython3",
   "version": "3.11.5"
  },
  "orig_nbformat": 4
 },
 "nbformat": 4,
 "nbformat_minor": 2
}
