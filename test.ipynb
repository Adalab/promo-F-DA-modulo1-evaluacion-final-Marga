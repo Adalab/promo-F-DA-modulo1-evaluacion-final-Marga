{
 "cells": [
  {
   "cell_type": "code",
   "execution_count": 20,
   "metadata": {},
   "outputs": [],
   "source": [
    "class TiendaOnline:\n",
    "\n",
    "    def __init__(self, nombre): \n",
    "        self.nombre = nombre\n",
    "        self.inventario = [] #lista vacía donde pondremos las claves de nombre, precio y cantidad {[nombre, precio, stock]}\n",
    "        self.clientes = {}  #diccionario donde pondremos las claves de nombre e email. {[nombre, email]}\n",
    "        self.ventas_totales = 0.0 #Es un float con decimales que se inicializa en cero. \n",
    "\n",
    "#METODO 1 -- agregar producto\n",
    "\n",
    "    def agregar_producto(self, nombre, precio, cantidad):\n",
    "            # Check if the product already exists\n",
    "            for diccionario in self.inventario:\n",
    "                if diccionario[\"nombre\"] == nombre:\n",
    "                    print(f\"El producto '{nombre}' ya existe en el inventario.\")\n",
    "                    return\n",
    "\n",
    "            # If the product doesn't exist, add it to the inventory\n",
    "            diccionario_producto = {\"nombre\": nombre, \"precio\": precio, \"cantidad\": cantidad}\n",
    "            self.inventario.append(diccionario_producto)\n",
    "            print(f\"Producto '{nombre}' added successfully.\")\n",
    "\n",
    "            return self.inventario\n",
    "    \n",
    "    def ver_inventario(self): \n",
    "         for diccionario in self.inventario: \n",
    "              print(f\"Nombre: {diccionario['nombre']}, Precio: {diccionario['precio']}€, Cantidad: {diccionario['cantidad']}\")\n",
    "\n",
    "\n",
    "\n",
    "    def buscar_producto(self, nombre):\n",
    "         for diccionario in self.inventario: \n",
    "              if diccionario[\"nombre\"] == nombre:\n",
    "                   return f\"Nombre: {diccionario['nombre']}, Precio: {diccionario['precio']}€, Cantidad: {diccionario['cantidad']}\"\n",
    "              else: \n",
    "                  return f\"El producto '{nombre}' no se encuentra en el inventario.\"\n",
    "              \n",
    "    def actualizar_stock(self, nombre, cantidad):\n",
    "         for diccionario in self.inventario: \n",
    "              if diccionario[\"nombre\"] == nombre:\n",
    "                   diccionario[\"cantidad\"] = diccionario[\"cantidad\"] + cantidad\n",
    "                   return f\"Stock / cantidad acutalizada para {nombre}, ahora hay {cantidad}\"\n",
    "              else:\n",
    "                 return f\"El producto {nombre}, no existe en tu inventario\"\n",
    "              \n",
    "    def eliminar_producto(self, nombre):\n",
    "          for diccionario in self.inventario: \n",
    "               if diccionario[\"nombre\"] == nombre:\n",
    "                    self.inventario.remove(diccionario)\n",
    "                    print(f\"El producto {nombre} ha sido eliminado de tu inventario\")\n",
    "                    return\n",
    "               \n",
    "          print(f\"El producto {nombre} no existe en tu inventario\")\n",
    "     \n",
    "    def calcular_valor_inventario(self): \n",
    "          total_valor = 0.0\n",
    "          \n",
    "          for diccionario in self.inventario:\n",
    "          \n",
    "               precio = diccionario[\"precio\"]\n",
    "               cantidad = diccionario[\"cantidad\"]\n",
    "               valor_producto = precio * cantidad\n",
    "               total_valor = total_valor + valor_producto\n",
    "\n",
    "          print(f\"El valor total del inventario es de: {total_valor}€\")\n",
    "     \n",
    "    def realizar_compra(self):\n",
    " \n",
    "\n",
    "          carrito = []\n",
    "          total_compra = 0.0\n",
    "\n",
    "\n",
    "          while True:\n",
    "               print(self.inventario)\n",
    "               producto_usuario = input(\"¿Qué producto quieres comprar? (Escribe 'Finalizar' para finalizar la compra): \")\n",
    "\n",
    "               if producto_usuario.lower() == 'finalizar':\n",
    "                    break\n",
    "\n",
    "               for producto in self.inventario:\n",
    "                    if producto[\"nombre\"].lower() == producto_usuario.lower() and producto[\"cantidad\"] > 0:\n",
    "                         carrito.append(producto)\n",
    "                         producto[\"cantidad\"] -= 1\n",
    "                         total_compra += producto[\"precio\"]\n",
    "                         print(f\"Se ha añadido el producto {producto['nombre']} a la cesta\")\n",
    "                         break\n",
    "               else:\n",
    "                    print(f\"El producto {producto_usuario} no existe o está agotado\")\n",
    "\n",
    "\n",
    "          print(f\"Has finalizado la compra. El total de la compra es: {total_compra}\")\n",
    "\n",
    "          print(\"__________________\")\n",
    "          print(\"\\nCarrito:\")\n",
    "\n",
    "          for item in carrito:\n",
    "               print(f\"{item['nombre']} - Precio: {item['precio']}€\")\n",
    "          print(f\"Total de la compra: {total_compra}€\")\n",
    "\n",
    "\n",
    "#lo paso a minúsculas y quito los espacios por si nos diera error al escribir\n",
    "\n",
    "\n",
    "\n",
    "    def procesar_pago(self):\n",
    "          \n",
    "          try:\n",
    "               cantidad_a_pagar = float(input(\"ingresa el importe exacto a pagar en € y con decimales: \"))\n",
    "               cantidad_entregada = float(input(\"ingresa la cantidad exacta que me estás entregando: \"))\n",
    "               cambio = cantidad_entregada - cantidad_a_pagar\n",
    "\n",
    "               if cambio == 0: \n",
    "                    print(\"Gracias por darme la cantidad exacta, no tengo que devolverte cambio\")\n",
    "               elif cambio > 0:\n",
    "               \n",
    "                    print(f\"Has entregado {cantidad_entregada}€, tu cambio es de {cambio}€\")\n",
    "               elif cambio < 0:\n",
    "                    print(f\"Por favor, ingresa una cantidad mayor al coste de tu compra\")\n",
    "                    \n",
    "          except ValueError:\n",
    "                    print(\"por favor,ingresa un parámetro numérico válido\")   \n",
    "\n",
    "    \n",
    "    \n",
    "    def agregar_cliente(self, nombre, email):\n",
    "          \n",
    "          if email in self.clientes:\n",
    "               print(f\"El cliente con el correo {email} ya está registrado\")\n",
    "               return False #el cliente no ha sido añadido\n",
    "          else:\n",
    "               #Que el ID sea el email\n",
    "               #self.clientes[email] = {\"nombre\": nombre, \"email\": email, \"compras\": []}\n",
    "               #Que el ID sea el nombre\n",
    "               self.clientes[nombre] = {\"nombre\": nombre, \"email\": email, \"compras\": []}\n",
    "          print(f\"Cliente '{nombre}' con correo electrónico '{email}' agregado correctamente.\")\n",
    "          return True #el cliente ha sido añadido\n",
    "\n",
    "\n",
    "#[email]: En Python, los diccionarios tienen claves únicas que se utilizan para acceder a sus valores. \n",
    "#En este caso, email se utiliza como clave. Esto significa que cada cliente en el diccionario tendrá una clave única basada en su dirección de correo electrónico. \n",
    "#Esto es útil para buscar y acceder a clientes por su dirección de correo electrónico.\n",
    "\n",
    "#{\"nombre\": nombre, \"email\": email, \"compras\": []}: Este es el valor asociado a la clave email. \n",
    "#Representa la información del cliente. Se trata de un diccionario que contiene tres elementos:\n",
    "\n",
    "    def ver_clientes(self):\n",
    "         \n",
    "         for cliente in self.clientes.values():\n",
    "              nombre = cliente[\"nombre\"]\n",
    "              email = cliente[\"email\"]\n",
    "\n",
    "              print(f\"Nombre: {nombre}, Email: {email}\")\n",
    "\n",
    "\n",
    "\n",
    "\n",
    "\n",
    "    def registrar_compra(self, nombre_cliente, carrito): \n",
    "          productos = carrito.values()\n",
    "          total_coste_productos = []\n",
    "\n",
    "          if nombre_cliente in self.clientes: \n",
    "               cliente = self.clientes[nombre_cliente]\n",
    "               \n",
    "               for unidad in productos:\n",
    "                    coste_productos = unidad[\"precio\"] * unidad[\"cantidad\"]\n",
    "                    total_coste_productos.append(coste_productos)\n",
    "               total_compra = sum(total_coste_productos)\n",
    "               compra = {\"productos\": carrito, \"total\": total_compra}\n",
    "               cliente[\"compras\"].append(compra) \n",
    "          \n",
    "          else:  \n",
    "               print(\"No se puede realizar la acción porque el cliente no está en el diccionario.\")\n",
    "\n",
    "\n",
    "    def ver_compras_cliente(self, nombre_cliente):\n",
    "     \n",
    "          if nombre_cliente in self.clientes:\n",
    "               cliente = self.clientes[nombre_cliente]\n",
    "               historial_compras = cliente[\"compras\"]\n",
    "               print(f\"Historial de compras para {cliente['nombre']} ({cliente['email']}):\")\n",
    "          \n",
    "               num_compra = 1\n",
    "               for compra in historial_compras:\n",
    "                    print(f\"Compra {num_compra}:\")\n",
    "                    \n",
    "                    for producto, detalles in compra[\"productos\"].items():\n",
    "                         print(f\"Producto: {producto}, Precio: ${detalles['precio']}, Cantidad: {detalles['cantidad']}\")\n",
    "\n",
    "                    print(f\"Total de la compra: ${compra['total']}\")\n",
    "\n",
    "                    num_compra += 1  # Incrementa el número de compra\n",
    "          \n",
    "          else:\n",
    "               print(\"El cliente no está en el diccionario.\")\n",
    "\n",
    "    def calcular_ventas_totales(self):\n",
    "\n",
    "     ventas_totales = 0.0\n",
    "\n",
    "     for cliente in self.clientes.values():\n",
    "          for compra in cliente[\"compras\"]:\n",
    "               ventas_totales = ventas_totales + compra[\"total\"]\n",
    "\n",
    "     print(f\"ventas totales de la tienda: {ventas_totales}€\")"
   ]
  },
  {
   "cell_type": "code",
   "execution_count": 21,
   "metadata": {},
   "outputs": [
    {
     "name": "stdout",
     "output_type": "stream",
     "text": [
      "Producto 'Laptop' added successfully.\n",
      "[{'nombre': 'Laptop', 'precio': 800, 'cantidad': 10}]\n"
     ]
    }
   ],
   "source": [
    "# Crear una instancia de la clase Ecommerce\n",
    "mi_ecommerce = TiendaOnline(\"Mi Tienda Marga\")\n",
    "\n",
    "# Agregar productos\n",
    "dicc_producto = mi_ecommerce.agregar_producto(\"Laptop\", 800, 10)\n",
    "\n",
    "print(dicc_producto)"
   ]
  },
  {
   "cell_type": "code",
   "execution_count": 22,
   "metadata": {},
   "outputs": [
    {
     "name": "stdout",
     "output_type": "stream",
     "text": [
      "El producto 'Laptop' ya existe en el inventario.\n"
     ]
    }
   ],
   "source": [
    "dicc_producto = mi_ecommerce.agregar_producto(\"Laptop\", 800, 10)"
   ]
  },
  {
   "cell_type": "code",
   "execution_count": 38,
   "metadata": {},
   "outputs": [
    {
     "name": "stdout",
     "output_type": "stream",
     "text": [
      "Producto 'Product 1' added successfully.\n",
      "Producto 'Product 2' added successfully.\n",
      "Producto 'Patata 2' added successfully.\n",
      "Nombre: Product 1, Precio: 10.99€, Cantidad: 100\n",
      "Nombre: Product 2, Precio: 5.99€, Cantidad: 50\n",
      "Nombre: Patata 2, Precio: 5.99€, Cantidad: 50\n"
     ]
    }
   ],
   "source": [
    "# Create an instance of the TiendaOnline class\n",
    "my_store = TiendaOnline(\"My Online Store\")\n",
    "\n",
    "# Add some products to the inventory\n",
    "my_store.agregar_producto(\"Product 1\", 10.99, 100)\n",
    "my_store.agregar_producto(\"Product 2\", 5.99, 50)\n",
    "my_store.agregar_producto(\"Patata 2\", 5.99, 50)\n",
    "\n",
    "\n",
    "# View the current inventory\n",
    "my_store.ver_inventario()\n"
   ]
  },
  {
   "cell_type": "code",
   "execution_count": 39,
   "metadata": {},
   "outputs": [
    {
     "name": "stdout",
     "output_type": "stream",
     "text": [
      "Nombre: Product 1, Precio: 10.99€, Cantidad: 100\n",
      "Nombre: Product 2, Precio: 5.99€, Cantidad: 50\n",
      "Nombre: Patata 2, Precio: 5.99€, Cantidad: 50\n"
     ]
    }
   ],
   "source": [
    "# View the current inventory\n",
    "my_store.ver_inventario()"
   ]
  },
  {
   "cell_type": "code",
   "execution_count": 24,
   "metadata": {},
   "outputs": [
    {
     "name": "stdout",
     "output_type": "stream",
     "text": [
      "El producto 'Camisa' no se encuentra en el inventario.\n"
     ]
    }
   ],
   "source": [
    "product_info = my_store.buscar_producto(\"Camisa\")\n",
    "print(product_info)  #"
   ]
  },
  {
   "cell_type": "code",
   "execution_count": 25,
   "metadata": {},
   "outputs": [
    {
     "name": "stdout",
     "output_type": "stream",
     "text": [
      "Producto 'Camisa' added successfully.\n"
     ]
    },
    {
     "data": {
      "text/plain": [
       "'El producto Pantalón, no existe en tu inventario'"
      ]
     },
     "execution_count": 25,
     "metadata": {},
     "output_type": "execute_result"
    }
   ],
   "source": [
    "# Create an instance of the TiendaOnline class\n",
    "my_store = TiendaOnline(\"My Online Store\")\n",
    "\n",
    "# Add a product to the inventory\n",
    "my_store.agregar_producto(\"Camisa\", 20.0, 40)\n",
    "\n",
    "# Update the stock of a product\n",
    "my_store.actualizar_stock(\"Camisa\", 10)  # Add 10 to the stock\n",
    "my_store.actualizar_stock(\"Pantalón\", 5)  # Product not found, will print a message\n"
   ]
  },
  {
   "cell_type": "code",
   "execution_count": 26,
   "metadata": {},
   "outputs": [
    {
     "name": "stdout",
     "output_type": "stream",
     "text": [
      "El producto Camisa ha sido eliminado de tu inventario\n"
     ]
    }
   ],
   "source": [
    "my_store.eliminar_producto(\"Camisa\")"
   ]
  },
  {
   "cell_type": "code",
   "execution_count": 27,
   "metadata": {},
   "outputs": [
    {
     "name": "stdout",
     "output_type": "stream",
     "text": [
      "El producto Holi no existe en tu inventario\n"
     ]
    }
   ],
   "source": [
    "my_store.eliminar_producto(\"Holi\")\n"
   ]
  },
  {
   "cell_type": "code",
   "execution_count": 28,
   "metadata": {},
   "outputs": [
    {
     "name": "stdout",
     "output_type": "stream",
     "text": [
      "Producto 'Camisa' added successfully.\n",
      "Producto 'Calcetines' added successfully.\n",
      "El valor total del inventario es de: 35.0€\n"
     ]
    }
   ],
   "source": [
    "my_store = TiendaOnline(\"My Online Store\")\n",
    "my_store.agregar_producto(\"Camisa\", 5.0, 5)\n",
    "my_store.agregar_producto(\"Calcetines\", 1.0, 10)\n",
    "my_store.calcular_valor_inventario()\n"
   ]
  },
  {
   "cell_type": "code",
   "execution_count": 29,
   "metadata": {},
   "outputs": [
    {
     "name": "stdout",
     "output_type": "stream",
     "text": [
      "[{'nombre': 'Camisa', 'precio': 5.0, 'cantidad': 5}, {'nombre': 'Calcetines', 'precio': 1.0, 'cantidad': 10}]\n",
      "Se ha añadido el producto Calcetines a la cesta\n",
      "[{'nombre': 'Camisa', 'precio': 5.0, 'cantidad': 5}, {'nombre': 'Calcetines', 'precio': 1.0, 'cantidad': 9}]\n",
      "El producto camiseta no existe o está agotado\n",
      "[{'nombre': 'Camisa', 'precio': 5.0, 'cantidad': 5}, {'nombre': 'Calcetines', 'precio': 1.0, 'cantidad': 9}]\n",
      "El producto camisetas no existe o está agotado\n",
      "[{'nombre': 'Camisa', 'precio': 5.0, 'cantidad': 5}, {'nombre': 'Calcetines', 'precio': 1.0, 'cantidad': 9}]\n",
      "Se ha añadido el producto Calcetines a la cesta\n",
      "[{'nombre': 'Camisa', 'precio': 5.0, 'cantidad': 5}, {'nombre': 'Calcetines', 'precio': 1.0, 'cantidad': 8}]\n",
      "Has finalizado la compra. El total de la compra es: 2.0\n",
      "__________________\n",
      "\n",
      "Carrito:\n",
      "Calcetines - Precio: 1.0€\n",
      "Calcetines - Precio: 1.0€\n",
      "Total de la compra: 2.0€\n"
     ]
    }
   ],
   "source": [
    "my_store.realizar_compra()"
   ]
  },
  {
   "cell_type": "code",
   "execution_count": 30,
   "metadata": {},
   "outputs": [
    {
     "name": "stdout",
     "output_type": "stream",
     "text": [
      "Has entregado 100.0€, tu cambio es de 50.0€\n"
     ]
    }
   ],
   "source": [
    "my_store.procesar_pago()"
   ]
  },
  {
   "cell_type": "code",
   "execution_count": 42,
   "metadata": {},
   "outputs": [
    {
     "name": "stdout",
     "output_type": "stream",
     "text": [
      "Cliente 'Juan Pérez' con correo electrónico 'juan@example.com' agregado correctamente.\n",
      "Cliente 'Ana García' con correo electrónico 'ana@example.com' agregado correctamente.\n",
      "True\n"
     ]
    }
   ],
   "source": [
    "dicc_cliente = my_store.agregar_cliente(\"Juan Pérez\", \"juan@example.com\")\n",
    "dicc_cliente = my_store.agregar_cliente(\"Ana García\", \"ana@example.com\")\n",
    "print(dicc_cliente)"
   ]
  },
  {
   "cell_type": "code",
   "execution_count": 45,
   "metadata": {},
   "outputs": [
    {
     "name": "stdout",
     "output_type": "stream",
     "text": [
      "Cliente 'alex' con correo electrónico 'alex@example.com' agregado correctamente.\n",
      "True\n",
      "True\n"
     ]
    }
   ],
   "source": [
    "agregar_c= my_store.agregar_cliente(\"alex\", \"alex@example.com\")\n",
    "print(agregar_c)\n",
    "print(dicc_cliente)"
   ]
  },
  {
   "cell_type": "code",
   "execution_count": 46,
   "metadata": {},
   "outputs": [
    {
     "data": {
      "text/plain": [
       "{'Juan Pérez': {'nombre': 'Juan Pérez',\n",
       "  'email': 'juan@example.com',\n",
       "  'compras': []},\n",
       " 'Ana García': {'nombre': 'Ana García',\n",
       "  'email': 'ana@example.com',\n",
       "  'compras': []},\n",
       " 'marga': {'nombre': 'marga', 'email': 'marga@example.com', 'compras': []},\n",
       " 'alex': {'nombre': 'alex', 'email': 'alex@example.com', 'compras': []}}"
      ]
     },
     "execution_count": 46,
     "metadata": {},
     "output_type": "execute_result"
    }
   ],
   "source": [
    "my_store.clientes"
   ]
  },
  {
   "cell_type": "code",
   "execution_count": 34,
   "metadata": {},
   "outputs": [
    {
     "name": "stdout",
     "output_type": "stream",
     "text": [
      "Nombre: Juan Pérez, Email: juan@example.com\n",
      "Nombre: Ana García, Email: ana@example.com\n",
      "Nombre: marga, Email: marga@example.com\n"
     ]
    }
   ],
   "source": [
    "my_store.ver_clientes()"
   ]
  },
  {
   "cell_type": "code",
   "execution_count": 35,
   "metadata": {},
   "outputs": [],
   "source": [
    "carrito_cliente1 = {\"Calcetines\": {\"precio\": 5, \"cantidad\": 1}}\n",
    "my_store.registrar_compra(\"marga\", carrito_cliente1)\n",
    "\n",
    "\n"
   ]
  },
  {
   "cell_type": "code",
   "execution_count": 36,
   "metadata": {},
   "outputs": [
    {
     "name": "stdout",
     "output_type": "stream",
     "text": [
      "Historial de compras para marga (marga@example.com):\n",
      "Compra 1:\n",
      "Producto: Calcetines, Precio: $5, Cantidad: 1\n",
      "Total de la compra: $5\n"
     ]
    }
   ],
   "source": [
    "my_store.ver_compras_cliente(\"marga\")\n"
   ]
  },
  {
   "cell_type": "code",
   "execution_count": 37,
   "metadata": {},
   "outputs": [
    {
     "name": "stdout",
     "output_type": "stream",
     "text": [
      "ventas totales de la tienda: 5.0€\n"
     ]
    }
   ],
   "source": [
    "my_store.calcular_ventas_totales()"
   ]
  }
 ],
 "metadata": {
  "kernelspec": {
   "display_name": "base",
   "language": "python",
   "name": "python3"
  },
  "language_info": {
   "codemirror_mode": {
    "name": "ipython",
    "version": 3
   },
   "file_extension": ".py",
   "mimetype": "text/x-python",
   "name": "python",
   "nbconvert_exporter": "python",
   "pygments_lexer": "ipython3",
   "version": "3.11.5"
  },
  "orig_nbformat": 4
 },
 "nbformat": 4,
 "nbformat_minor": 2
}
