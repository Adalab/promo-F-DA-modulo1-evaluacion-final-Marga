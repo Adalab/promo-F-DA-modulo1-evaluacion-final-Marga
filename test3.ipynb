{
 "cells": [
  {
   "cell_type": "code",
   "execution_count": 2,
   "metadata": {},
   "outputs": [
    {
     "name": "stdout",
     "output_type": "stream",
     "text": [
      "Nombre: Cliente1, Email: cliente1@email.com\n",
      "Historial de compras para Cliente1 (cliente1@email.com):\n",
      "Compra 1:\n",
      "Producto: Camisa, Precio: 20, Cantidad: 3\n",
      "Total de la compra: 60\n",
      "Ventas totales de la tienda: $60\n"
     ]
    }
   ],
   "source": [
    "class Tienda:\n",
    "    def __init__(self):\n",
    "        self.clientes = {}  # Un diccionario para almacenar los clientes y sus compras\n",
    "        self.ventas_totales = 0  # Variable para rastrear las ventas totales\n",
    "\n",
    "    def agregar_cliente(self, nombre, email):\n",
    "        # Agregar un nuevo cliente al diccionario de clientes\n",
    "        self.clientes[nombre] = {\"nombre\": nombre, \"email\": email, \"compras\": []}\n",
    "\n",
    "    def ver_clientes(self):\n",
    "        # Mostrar la lista de clientes registrados con sus nombres y correos electrónicos\n",
    "        for cliente in self.clientes.values():\n",
    "            print(f\"Nombre: {cliente['nombre']}, Email: {cliente['email']}\")\n",
    "\n",
    "    def registrar_compra(self, nombre_cliente, carrito):\n",
    "        # Registrar una compra para un cliente\n",
    "        if nombre_cliente in self.clientes:\n",
    "            cliente = self.clientes[nombre_cliente]\n",
    "            total_compra = sum(item[\"precio\"] * item[\"cantidad\"] for item in carrito.values())\n",
    "            compra = {\"productos\": carrito, \"total\": total_compra}\n",
    "            cliente[\"compras\"].append(compra)\n",
    "            self.ventas_totales += total_compra\n",
    "        else:\n",
    "            print(\"No se puede realizar la acción porque el cliente no está en el diccionario.\")\n",
    "\n",
    "    def ver_compras_cliente(self, nombre_cliente):\n",
    "        # Mostrar el historial de compras de un cliente\n",
    "        if nombre_cliente in self.clientes:\n",
    "            cliente = self.clientes[nombre_cliente]\n",
    "            print(f\"Historial de compras para {cliente['nombre']} ({cliente['email']}):\")\n",
    "            for i, compra in enumerate(cliente[\"compras\"]):\n",
    "                print(f\"Compra {i + 1}:\")\n",
    "                for producto, detalles in compra[\"productos\"].items():\n",
    "                    print(f\"Producto: {producto}, Precio: {detalles['precio']}, Cantidad: {detalles['cantidad']}\")\n",
    "                print(f\"Total de la compra: {compra['total']}\")\n",
    "        else:\n",
    "            print(\"El cliente no está en el diccionario.\")\n",
    "\n",
    "    def calcular_ventas_totales(self):\n",
    "        # Calcular y mostrar las ventas totales de la tienda\n",
    "        print(f\"Ventas totales de la tienda: ${self.ventas_totales}\")\n",
    "\n",
    "\n",
    "# Ejemplo de uso\n",
    "tienda = Tienda()\n",
    "tienda.agregar_cliente(\"Cliente1\", \"cliente1@email.com\")\n",
    "tienda.ver_clientes()\n",
    "carrito_cliente1 = {\"Camisa\": {\"precio\": 20, \"cantidad\": 3}}\n",
    "tienda.registrar_compra(\"Cliente1\", carrito_cliente1)\n",
    "tienda.ver_compras_cliente(\"Cliente1\")\n",
    "tienda.calcular_ventas_totales()\n"
   ]
  }
 ],
 "metadata": {
  "kernelspec": {
   "display_name": "base",
   "language": "python",
   "name": "python3"
  },
  "language_info": {
   "codemirror_mode": {
    "name": "ipython",
    "version": 3
   },
   "file_extension": ".py",
   "mimetype": "text/x-python",
   "name": "python",
   "nbconvert_exporter": "python",
   "pygments_lexer": "ipython3",
   "version": "3.11.5"
  },
  "orig_nbformat": 4
 },
 "nbformat": 4,
 "nbformat_minor": 2
}
